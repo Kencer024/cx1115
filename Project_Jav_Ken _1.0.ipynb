{
 "cells": [
  {
   "cell_type": "code",
   "execution_count": 68,
   "id": "collective-damage",
   "metadata": {},
   "outputs": [],
   "source": [
    "import requests # to make TMDB API calls\n",
    "import locale # to format currency as USD\n",
    "locale.setlocale( locale.LC_ALL, '' )\n",
    "import pinyin\n",
    "\n",
    "import pandas as pd\n",
    "import matplotlib\n",
    "import matplotlib.pyplot as plt\n",
    "from matplotlib.ticker import FuncFormatter # to format currency on charts axis\n",
    "\n",
    "\n",
    "# Basic Libraries\n",
    "import numpy as np\n",
    "import pandas as pd\n",
    "import seaborn as sb\n",
    "\n",
    "plt.rcParams['font.sans-serif'] = ['SimHei']\n",
    "plt.rcParams['font.serif'] = ['SimHei']\n",
    "sb.set_style(\"darkgrid\",{\"font.sans-serif\":['simhei', 'Arial']})"
   ]
  },
  {
   "cell_type": "code",
   "execution_count": 69,
   "id": "uniform-above",
   "metadata": {},
   "outputs": [],
   "source": [
    "api_token = '52cf5e0fed50126040e1e42c3afcda2d'\n",
    
   ]
  },
  {
   "cell_type": "code",
   "execution_count": 70,
   "id": "bright-sapphire",
   "metadata": {},
   "outputs": [
    {
     "name": "stdout",
     "output_type": "stream",
     "text": [
      "200\n"
     ]
    }
   ],
   "source": [
    "print(response.status_code)"
   ]
  },
  {
   "cell_type": "code",
   "execution_count": 71,
   "id": "demonstrated-newfoundland",
   "metadata": {},
   "outputs": [],
   "source": [
    "result = response.json()\n",
    "titles = result['results']"
   ]
  },
  {
   "cell_type": "code",
   "execution_count": 72,
   "id": "directed-catalog",
   "metadata": {},
   "outputs": [
    {
     "name": "stdout",
     "output_type": "stream",
     "text": [
      "{'adult': False, 'backdrop_path': '/hmNKg4hN2BYftaCJGdKHyETFFki.jpg', 'genre_ids': [10752, 36, 18, 28], 'id': 508935, 'original_language': 'zh', 'original_title': '八佰', 'overview': 'In 1937, eight hundred Chinese soldiers fight under siege from a warehouse in the middle of the Shanghai battlefield, completely surrounded by the Japanese army.', 'popularity': 13.865, 'poster_path': '/2tuJiQQUJNZgEmBgBfNVaYvAnPT.jpg', 'release_date': '2020-08-14', 'title': 'The Eight Hundred', 'video': False, 'vote_average': 7.3, 'vote_count': 55}\n"
     ]
    }
   ],
   "source": [
    "print(titles[0])"
   ]
  },
  {
   "cell_type": "code",
   "execution_count": 73,
   "id": "abandoned-hygiene",
   "metadata": {},
   "outputs": [
    {
     "name": "stdout",
     "output_type": "stream",
     "text": [
      "dict_keys(['adult', 'backdrop_path', 'genre_ids', 'id', 'original_language', 'original_title', 'overview', 'popularity', 'poster_path', 'release_date', 'title', 'video', 'vote_average', 'vote_count'])\n"
     ]
    }
   ],
   "source": [
    "print(titles[0].keys())"
   ]
  },
  {
   "cell_type": "markdown",
   "id": "french-frame",
   "metadata": {},
   "source": [
    "| Key        | \n",
    "| --------------: |\n",
    "| adult        |\n",
    "| backdrop_path        |\n",
    "| genre_ids       |\n",
    "| id       |\n",
    "| original_language        |\n",
    "| original_title        |\n",
    "| overview        |\n",
    "| popularity        |\n",
    "| poster_path        |\n",
    "| release_date        |\n",
    "| title        |\n",
    "| video        |\n",
    "| vote_average    |\n",
    "| vote_count      |\n"
   ]
  },
  {
   "cell_type": "code",
   "execution_count": 74,
   "id": "matched-animation",
   "metadata": {},
   "outputs": [],
   "source": [
    "new_dict = {}"
   ]
  },
  {
   "cell_type": "code",
   "execution_count": 75,
   "id": "designed-arlington",
   "metadata": {},
   "outputs": [
    {
     "name": "stdout",
     "output_type": "stream",
     "text": [
      "八佰\n",
      "Metallica: WorldWired Tour - Live in Manchester, England - June 18, 2019\n",
      "Bad Boys for Life\n",
      "劇場版「鬼滅の刃」無限列車編\n",
      "Tenet\n",
      "Sonic the Hedgehog\n",
      "Dolittle\n",
      "姜子牙\n",
      "Birds of Prey (and the Fantabulous Emancipation of One Harley Quinn)\n",
      "Wonder Woman 1984\n",
      "Onward\n",
      "The Croods: A New Age\n",
      "The Invisible Man\n",
      "The Call of the Wild\n",
      "Manbaby Cries Because He Isn't Added to Discord Chat (Gone Wrong)\n",
      "晴雅集\n",
      "Soul\n",
      "Mulan\n",
      "Tolo Tolo\n",
      "Greenland\n"
     ]
    }
   ],
   "source": [
    "for i in range(len(titles)) :\n",
    "    print(titles[i]['original_title'])\n",
    "    new_dict[str(titles[i]['original_title'])] = [titles[i]['popularity'], titles[i]['release_date'], titles[i]['vote_count'], titles[i]['id'],titles[i]['release_date']]"
   ]
  },
  {
   "cell_type": "code",
   "execution_count": 76,
   "id": "threatened-encounter",
   "metadata": {},
   "outputs": [
    {
     "data": {
      "text/plain": [
       "{'八佰': [13.865, '2020-08-14', 55, 508935, '2020-08-14'],\n",
       " 'Metallica: WorldWired Tour - Live in Manchester, England - June 18, 2019': [3.223,\n",
       "  '2020-06-08',\n",
       "  0,\n",
       "  715904,\n",
       "  '2020-06-08'],\n",
       " 'Bad Boys for Life': [472.282, '2020-01-15', 6081, 38700, '2020-01-15'],\n",
       " '劇場版「鬼滅の刃」無限列車編': [185.441, '2020-10-16', 494, 635302, '2020-10-16'],\n",
       " 'Tenet': [556.166, '2020-08-22', 4692, 577922, '2020-08-22'],\n",
       " 'Sonic the Hedgehog': [112.447, '2020-02-12', 6625, 454626, '2020-02-12'],\n",
       " 'Dolittle': [39.811, '2020-01-01', 2460, 448119, '2020-01-01'],\n",
       " '姜子牙': [15.041, '2020-10-01', 9, 635389, '2020-10-01'],\n",
       " 'Birds of Prey (and the Fantabulous Emancipation of One Harley Quinn)': [750.215,\n",
       "  '2020-02-05',\n",
       "  7117,\n",
       "  495764,\n",
       "  '2020-02-05'],\n",
       " 'Wonder Woman 1984': [1914.199, '2020-12-16', 4263, 464052, '2020-12-16'],\n",
       " 'Onward': [73.24, '2020-02-29', 4016, 508439, '2020-02-29'],\n",
       " 'The Croods: A New Age': [691.247, '2020-11-25', 1730, 529203, '2020-11-25'],\n",
       " 'The Invisible Man': [39.302, '2020-02-26', 3529, 570670, '2020-02-26'],\n",
       " 'The Call of the Wild': [54.711, '2020-02-19', 2375, 481848, '2020-02-19'],\n",
       " \"Manbaby Cries Because He Isn't Added to Discord Chat (Gone Wrong)\": [0.676,\n",
       "  '2020-02-19',\n",
       "  1,\n",
       "  774455,\n",
       "  '2020-02-19'],\n",
       " '晴雅集': [15.341, '2020-12-24', 44, 757860, '2020-12-24'],\n",
       " 'Soul': [695.107, '2020-12-25', 5250, 508442, '2020-12-25'],\n",
       " 'Mulan': [268.655, '2020-09-04', 4459, 337401, '2020-09-04'],\n",
       " 'Tolo Tolo': [9.361, '2020-01-01', 893, 593402, '2020-01-01'],\n",
       " 'Greenland': [155.581, '2020-07-29', 2233, 524047, '2020-07-29']}"
      ]
     },
     "execution_count": 76,
     "metadata": {},
     "output_type": "execute_result"
    }
   ],
   "source": [
    "new_dict"
   ]
  },
  {
   "cell_type": "code",
   "execution_count": 77,
   "id": "looking-speech",
   "metadata": {},
   "outputs": [
    {
     "data": {
      "text/html": [
       "<div>\n",
       "<style scoped>\n",
       "    .dataframe tbody tr th:only-of-type {\n",
       "        vertical-align: middle;\n",
       "    }\n",
       "\n",
       "    .dataframe tbody tr th {\n",
       "        vertical-align: top;\n",
       "    }\n",
       "\n",
       "    .dataframe thead th {\n",
       "        text-align: right;\n",
       "    }\n",
       "</style>\n",
       "<table border=\"1\" class=\"dataframe\">\n",
       "  <thead>\n",
       "    <tr style=\"text-align: right;\">\n",
       "      <th></th>\n",
       "      <th>popularity</th>\n",
       "      <th>release-date</th>\n",
       "      <th>vote count</th>\n",
       "      <th>id</th>\n",
       "      <th>release_date</th>\n",
       "    </tr>\n",
       "  </thead>\n",
       "  <tbody>\n",
       "    <tr>\n",
       "      <th>八佰</th>\n",
       "      <td>13.865</td>\n",
       "      <td>2020-08-14</td>\n",
       "      <td>55</td>\n",
       "      <td>508935</td>\n",
       "      <td>2020-08-14</td>\n",
       "    </tr>\n",
       "    <tr>\n",
       "      <th>Metallica: WorldWired Tour - Live in Manchester, England - June 18, 2019</th>\n",
       "      <td>3.223</td>\n",
       "      <td>2020-06-08</td>\n",
       "      <td>0</td>\n",
       "      <td>715904</td>\n",
       "      <td>2020-06-08</td>\n",
       "    </tr>\n",
       "    <tr>\n",
       "      <th>Bad Boys for Life</th>\n",
       "      <td>472.282</td>\n",
       "      <td>2020-01-15</td>\n",
       "      <td>6081</td>\n",
       "      <td>38700</td>\n",
       "      <td>2020-01-15</td>\n",
       "    </tr>\n",
       "    <tr>\n",
       "      <th>劇場版「鬼滅の刃」無限列車編</th>\n",
       "      <td>185.441</td>\n",
       "      <td>2020-10-16</td>\n",
       "      <td>494</td>\n",
       "      <td>635302</td>\n",
       "      <td>2020-10-16</td>\n",
       "    </tr>\n",
       "    <tr>\n",
       "      <th>Tenet</th>\n",
       "      <td>556.166</td>\n",
       "      <td>2020-08-22</td>\n",
       "      <td>4692</td>\n",
       "      <td>577922</td>\n",
       "      <td>2020-08-22</td>\n",
       "    </tr>\n",
       "    <tr>\n",
       "      <th>Sonic the Hedgehog</th>\n",
       "      <td>112.447</td>\n",
       "      <td>2020-02-12</td>\n",
       "      <td>6625</td>\n",
       "      <td>454626</td>\n",
       "      <td>2020-02-12</td>\n",
       "    </tr>\n",
       "    <tr>\n",
       "      <th>Dolittle</th>\n",
       "      <td>39.811</td>\n",
       "      <td>2020-01-01</td>\n",
       "      <td>2460</td>\n",
       "      <td>448119</td>\n",
       "      <td>2020-01-01</td>\n",
       "    </tr>\n",
       "    <tr>\n",
       "      <th>姜子牙</th>\n",
       "      <td>15.041</td>\n",
       "      <td>2020-10-01</td>\n",
       "      <td>9</td>\n",
       "      <td>635389</td>\n",
       "      <td>2020-10-01</td>\n",
       "    </tr>\n",
       "    <tr>\n",
       "      <th>Birds of Prey (and the Fantabulous Emancipation of One Harley Quinn)</th>\n",
       "      <td>750.215</td>\n",
       "      <td>2020-02-05</td>\n",
       "      <td>7117</td>\n",
       "      <td>495764</td>\n",
       "      <td>2020-02-05</td>\n",
       "    </tr>\n",
       "    <tr>\n",
       "      <th>Wonder Woman 1984</th>\n",
       "      <td>1914.199</td>\n",
       "      <td>2020-12-16</td>\n",
       "      <td>4263</td>\n",
       "      <td>464052</td>\n",
       "      <td>2020-12-16</td>\n",
       "    </tr>\n",
       "    <tr>\n",
       "      <th>Onward</th>\n",
       "      <td>73.240</td>\n",
       "      <td>2020-02-29</td>\n",
       "      <td>4016</td>\n",
       "      <td>508439</td>\n",
       "      <td>2020-02-29</td>\n",
       "    </tr>\n",
       "    <tr>\n",
       "      <th>The Croods: A New Age</th>\n",
       "      <td>691.247</td>\n",
       "      <td>2020-11-25</td>\n",
       "      <td>1730</td>\n",
       "      <td>529203</td>\n",
       "      <td>2020-11-25</td>\n",
       "    </tr>\n",
       "    <tr>\n",
       "      <th>The Invisible Man</th>\n",
       "      <td>39.302</td>\n",
       "      <td>2020-02-26</td>\n",
       "      <td>3529</td>\n",
       "      <td>570670</td>\n",
       "      <td>2020-02-26</td>\n",
       "    </tr>\n",
       "    <tr>\n",
       "      <th>The Call of the Wild</th>\n",
       "      <td>54.711</td>\n",
       "      <td>2020-02-19</td>\n",
       "      <td>2375</td>\n",
       "      <td>481848</td>\n",
       "      <td>2020-02-19</td>\n",
       "    </tr>\n",
       "    <tr>\n",
       "      <th>Manbaby Cries Because He Isn't Added to Discord Chat (Gone Wrong)</th>\n",
       "      <td>0.676</td>\n",
       "      <td>2020-02-19</td>\n",
       "      <td>1</td>\n",
       "      <td>774455</td>\n",
       "      <td>2020-02-19</td>\n",
       "    </tr>\n",
       "    <tr>\n",
       "      <th>晴雅集</th>\n",
       "      <td>15.341</td>\n",
       "      <td>2020-12-24</td>\n",
       "      <td>44</td>\n",
       "      <td>757860</td>\n",
       "      <td>2020-12-24</td>\n",
       "    </tr>\n",
       "    <tr>\n",
       "      <th>Soul</th>\n",
       "      <td>695.107</td>\n",
       "      <td>2020-12-25</td>\n",
       "      <td>5250</td>\n",
       "      <td>508442</td>\n",
       "      <td>2020-12-25</td>\n",
       "    </tr>\n",
       "    <tr>\n",
       "      <th>Mulan</th>\n",
       "      <td>268.655</td>\n",
       "      <td>2020-09-04</td>\n",
       "      <td>4459</td>\n",
       "      <td>337401</td>\n",
       "      <td>2020-09-04</td>\n",
       "    </tr>\n",
       "    <tr>\n",
       "      <th>Tolo Tolo</th>\n",
       "      <td>9.361</td>\n",
       "      <td>2020-01-01</td>\n",
       "      <td>893</td>\n",
       "      <td>593402</td>\n",
       "      <td>2020-01-01</td>\n",
       "    </tr>\n",
       "    <tr>\n",
       "      <th>Greenland</th>\n",
       "      <td>155.581</td>\n",
       "      <td>2020-07-29</td>\n",
       "      <td>2233</td>\n",
       "      <td>524047</td>\n",
       "      <td>2020-07-29</td>\n",
       "    </tr>\n",
       "  </tbody>\n",
       "</table>\n",
       "</div>"
      ],
      "text/plain": [
       "                                                    popularity release-date  \\\n",
       "八佰                                                      13.865   2020-08-14   \n",
       "Metallica: WorldWired Tour - Live in Manchester...       3.223   2020-06-08   \n",
       "Bad Boys for Life                                      472.282   2020-01-15   \n",
       "劇場版「鬼滅の刃」無限列車編                                         185.441   2020-10-16   \n",
       "Tenet                                                  556.166   2020-08-22   \n",
       "Sonic the Hedgehog                                     112.447   2020-02-12   \n",
       "Dolittle                                                39.811   2020-01-01   \n",
       "姜子牙                                                     15.041   2020-10-01   \n",
       "Birds of Prey (and the Fantabulous Emancipation...     750.215   2020-02-05   \n",
       "Wonder Woman 1984                                     1914.199   2020-12-16   \n",
       "Onward                                                  73.240   2020-02-29   \n",
       "The Croods: A New Age                                  691.247   2020-11-25   \n",
       "The Invisible Man                                       39.302   2020-02-26   \n",
       "The Call of the Wild                                    54.711   2020-02-19   \n",
       "Manbaby Cries Because He Isn't Added to Discord...       0.676   2020-02-19   \n",
       "晴雅集                                                     15.341   2020-12-24   \n",
       "Soul                                                   695.107   2020-12-25   \n",
       "Mulan                                                  268.655   2020-09-04   \n",
       "Tolo Tolo                                                9.361   2020-01-01   \n",
       "Greenland                                              155.581   2020-07-29   \n",
       "\n",
       "                                                    vote count      id  \\\n",
       "八佰                                                          55  508935   \n",
       "Metallica: WorldWired Tour - Live in Manchester...           0  715904   \n",
       "Bad Boys for Life                                         6081   38700   \n",
       "劇場版「鬼滅の刃」無限列車編                                             494  635302   \n",
       "Tenet                                                     4692  577922   \n",
       "Sonic the Hedgehog                                        6625  454626   \n",
       "Dolittle                                                  2460  448119   \n",
       "姜子牙                                                          9  635389   \n",
       "Birds of Prey (and the Fantabulous Emancipation...        7117  495764   \n",
       "Wonder Woman 1984                                         4263  464052   \n",
       "Onward                                                    4016  508439   \n",
       "The Croods: A New Age                                     1730  529203   \n",
       "The Invisible Man                                         3529  570670   \n",
       "The Call of the Wild                                      2375  481848   \n",
       "Manbaby Cries Because He Isn't Added to Discord...           1  774455   \n",
       "晴雅集                                                         44  757860   \n",
       "Soul                                                      5250  508442   \n",
       "Mulan                                                     4459  337401   \n",
       "Tolo Tolo                                                  893  593402   \n",
       "Greenland                                                 2233  524047   \n",
       "\n",
       "                                                   release_date  \n",
       "八佰                                                   2020-08-14  \n",
       "Metallica: WorldWired Tour - Live in Manchester...   2020-06-08  \n",
       "Bad Boys for Life                                    2020-01-15  \n",
       "劇場版「鬼滅の刃」無限列車編                                       2020-10-16  \n",
       "Tenet                                                2020-08-22  \n",
       "Sonic the Hedgehog                                   2020-02-12  \n",
       "Dolittle                                             2020-01-01  \n",
       "姜子牙                                                  2020-10-01  \n",
       "Birds of Prey (and the Fantabulous Emancipation...   2020-02-05  \n",
       "Wonder Woman 1984                                    2020-12-16  \n",
       "Onward                                               2020-02-29  \n",
       "The Croods: A New Age                                2020-11-25  \n",
       "The Invisible Man                                    2020-02-26  \n",
       "The Call of the Wild                                 2020-02-19  \n",
       "Manbaby Cries Because He Isn't Added to Discord...   2020-02-19  \n",
       "晴雅集                                                  2020-12-24  \n",
       "Soul                                                 2020-12-25  \n",
       "Mulan                                                2020-09-04  \n",
       "Tolo Tolo                                            2020-01-01  \n",
       "Greenland                                            2020-07-29  "
      ]
     },
     "execution_count": 77,
     "metadata": {},
     "output_type": "execute_result"
    }
   ],
   "source": [
    "data = pd.DataFrame.from_dict(new_dict, orient = 'index', columns = ['popularity', 'release-date', 'vote count','id','release_date'])\n",
    "data"
   ]
  },
  {
   "cell_type": "markdown",
   "id": "governmental-perth",
   "metadata": {},
   "source": [
    "---\n",
    "## Finding highest revenue\n",
    "https://dev.to/m0nica/how-to-use-the-tmdb-api-to-find-films-with-the-highest-revenue-82p"
   ]
  },
  {
   "cell_type": "code",
   "execution_count": 137,
   "id": "infectious-parcel",
   "metadata": {},
   "outputs": [
    {
     "data": {
      "text/html": [
       "<div>\n",
       "<style scoped>\n",
       "    .dataframe tbody tr th:only-of-type {\n",
       "        vertical-align: middle;\n",
       "    }\n",
       "\n",
       "    .dataframe tbody tr th {\n",
       "        vertical-align: top;\n",
       "    }\n",
       "\n",
       "    .dataframe thead th {\n",
       "        text-align: right;\n",
       "    }\n",
       "</style>\n",
       "<table border=\"1\" class=\"dataframe\">\n",
       "  <thead>\n",
       "    <tr style=\"text-align: right;\">\n",
       "      <th></th>\n",
       "      <th>film</th>\n",
       "      <th>revenue</th>\n",
       "      <th>genre</th>\n",
       "    </tr>\n",
       "  </thead>\n",
       "  <tbody>\n",
       "  </tbody>\n",
       "</table>\n",
       "</div>"
      ],
      "text/plain": [
       "Empty DataFrame\n",
       "Columns: [film, revenue, genre]\n",
       "Index: []"
      ]
     },
     "execution_count": 137,
     "metadata": {},
     "output_type": "execute_result"
    }
   ],
   "source": [
    "# define column names for our new dataframe\n",
    "columns = ['film', 'revenue','genre']\n",
    "\n",
    "# create dataframe with film and revenue columns\n",
    "df = pd.DataFrame(columns=columns)\n",
    "df"
   ]
  },
  {
   "cell_type": "code",
   "execution_count": 138,
   "id": "indie-persian",
   "metadata": {},
   "outputs": [
    {
     "data": {
      "text/plain": [
       "[10752, 36, 18, 28]"
      ]
     },
     "execution_count": 138,
     "metadata": {},
     "output_type": "execute_result"
    }
   ],
   "source": [
    " titles[0]['genre_ids']"
   ]
  },
  {
   "cell_type": "markdown",
   "id": "expanded-favor",
   "metadata": {},
   "source": [
    "Some movie names are in chinese hence cant plot out using catplot"
   ]
  },
  {
   "cell_type": "code",
   "execution_count": 139,
   "id": "unlikely-sterling",
   "metadata": {},
   "outputs": [
    {
     "name": "stdout",
     "output_type": "stream",
     "text": [
      "babai\n"
     ]
    }
   ],
   "source": [
    "en = pinyin.get(titles[0]['original_title'], format=\"strip\", delimiter=\"\")\n",
    "print(en)"
   ]
  },
  {
   "cell_type": "markdown",
   "id": "violent-egypt",
   "metadata": {},
   "source": [
    "Hence using `pinyin` we can convert them to english"
   ]
  },
  {
   "cell_type": "code",
   "execution_count": 140,
   "id": "declared-bloom",
   "metadata": {},
   "outputs": [],
   "source": [
    "for i in range(len(titles)) :\n",
    "    en = pinyin.get(titles[i]['original_title'], format=\"strip\", delimiter=\"\")\n",
    "    if(en.isalnum() == False):    # failed checking for の char\n",
    "        temp_str = ''\n",
    "        for k in en :\n",
    "            if(k.isalnum()):\n",
    "                temp_str += k\n",
    "            else :\n",
    "                temp_str += ' '\n",
    "        en = temp_str\n",
    "    titles[i]['original_title'] = en\n",
    "    \n",
    "\n",
    "    \n",
    "titles[3]['original_title'] = 'juchangban guimie ren wuxianliechebian'   # temporary solution for non alpnum char\n",
    "\n"
   ]
  },
  {
   "cell_type": "code",
   "execution_count": 141,
   "id": "historical-database",
   "metadata": {},
   "outputs": [],
   "source": [
    "for i in range(len(titles)) :\n",
    "    genre = ''\n",
    "    film_revenue = requests.get('https://api.themoviedb.org/3/movie/'+ str(titles[i]['id']) +'?api_key='+ api_token+'&language=en-US')\n",
    "    film_revenue = film_revenue.json()\n",
    "    title = titles[i]['original_title']\n",
    "    for i in range(len(film_revenue['genres'])):\n",
    "        genre += film_revenue['genres'][i]['name']\n",
    "        genre += '|'\n",
    "    df.loc[len(df)]=[title,film_revenue['revenue'],genre] # store title and revenue in our dataframe \n"
   ]
  },
  {
   "cell_type": "markdown",
   "id": "prescribed-ready",
   "metadata": {},
   "source": [
    "adding to dataframe"
   ]
  },
  {
   "cell_type": "code",
   "execution_count": 150,
   "id": "julian-income",
   "metadata": {},
   "outputs": [
    {
     "data": {
      "text/html": [
       "<div>\n",
       "<style scoped>\n",
       "    .dataframe tbody tr th:only-of-type {\n",
       "        vertical-align: middle;\n",
       "    }\n",
       "\n",
       "    .dataframe tbody tr th {\n",
       "        vertical-align: top;\n",
       "    }\n",
       "\n",
       "    .dataframe thead th {\n",
       "        text-align: right;\n",
       "    }\n",
       "</style>\n",
       "<table border=\"1\" class=\"dataframe\">\n",
       "  <thead>\n",
       "    <tr style=\"text-align: right;\">\n",
       "      <th></th>\n",
       "      <th>film</th>\n",
       "      <th>revenue</th>\n",
       "      <th>genre</th>\n",
       "    </tr>\n",
       "  </thead>\n",
       "  <tbody>\n",
       "    <tr>\n",
       "      <th>0</th>\n",
       "      <td>babai</td>\n",
       "      <td>460919368</td>\n",
       "      <td>War|History|Drama|Action|</td>\n",
       "    </tr>\n",
       "    <tr>\n",
       "      <th>1</th>\n",
       "      <td>Metallica  WorldWired Tour   Live in Mancheste...</td>\n",
       "      <td>426900000</td>\n",
       "      <td>Music|</td>\n",
       "    </tr>\n",
       "    <tr>\n",
       "      <th>2</th>\n",
       "      <td>Bad Boys for Life</td>\n",
       "      <td>426505244</td>\n",
       "      <td>Thriller|Action|Crime|</td>\n",
       "    </tr>\n",
       "    <tr>\n",
       "      <th>3</th>\n",
       "      <td>juchangban guimie ren wuxianliechebian</td>\n",
       "      <td>399180000</td>\n",
       "      <td>Animation|Action|Adventure|Fantasy|Drama|</td>\n",
       "    </tr>\n",
       "    <tr>\n",
       "      <th>4</th>\n",
       "      <td>Tenet</td>\n",
       "      <td>363129000</td>\n",
       "      <td>Action|Thriller|Science Fiction|</td>\n",
       "    </tr>\n",
       "    <tr>\n",
       "      <th>5</th>\n",
       "      <td>Sonic the Hedgehog</td>\n",
       "      <td>306766470</td>\n",
       "      <td>Action|Science Fiction|Comedy|Family|</td>\n",
       "    </tr>\n",
       "    <tr>\n",
       "      <th>6</th>\n",
       "      <td>Dolittle</td>\n",
       "      <td>245692007</td>\n",
       "      <td>Family|Fantasy|Adventure|</td>\n",
       "    </tr>\n",
       "    <tr>\n",
       "      <th>7</th>\n",
       "      <td>jiangziya</td>\n",
       "      <td>240656068</td>\n",
       "      <td>Animation|Action|Fantasy|Adventure|</td>\n",
       "    </tr>\n",
       "    <tr>\n",
       "      <th>8</th>\n",
       "      <td>Birds of Prey  and the Fantabulous Emancipatio...</td>\n",
       "      <td>201858461</td>\n",
       "      <td>Action|Crime|</td>\n",
       "    </tr>\n",
       "    <tr>\n",
       "      <th>9</th>\n",
       "      <td>Wonder Woman 1984</td>\n",
       "      <td>159533000</td>\n",
       "      <td>Fantasy|Action|Adventure|</td>\n",
       "    </tr>\n",
       "    <tr>\n",
       "      <th>10</th>\n",
       "      <td>Onward</td>\n",
       "      <td>141592359</td>\n",
       "      <td>Animation|Family|Adventure|Comedy|Fantasy|</td>\n",
       "    </tr>\n",
       "    <tr>\n",
       "      <th>11</th>\n",
       "      <td>The Croods  A New Age</td>\n",
       "      <td>135076090</td>\n",
       "      <td>Family|Fantasy|Animation|Comedy|</td>\n",
       "    </tr>\n",
       "    <tr>\n",
       "      <th>12</th>\n",
       "      <td>The Invisible Man</td>\n",
       "      <td>130234661</td>\n",
       "      <td>Thriller|Science Fiction|Horror|</td>\n",
       "    </tr>\n",
       "    <tr>\n",
       "      <th>13</th>\n",
       "      <td>The Call of the Wild</td>\n",
       "      <td>107604626</td>\n",
       "      <td>Drama|Adventure|Family|</td>\n",
       "    </tr>\n",
       "    <tr>\n",
       "      <th>14</th>\n",
       "      <td>Manbaby Cries Because He Isn t Added to Discor...</td>\n",
       "      <td>99000000</td>\n",
       "      <td>War|</td>\n",
       "    </tr>\n",
       "    <tr>\n",
       "      <th>15</th>\n",
       "      <td>qingyaji</td>\n",
       "      <td>69000000</td>\n",
       "      <td>Action|Drama|Fantasy|Mystery|Science Fiction|</td>\n",
       "    </tr>\n",
       "    <tr>\n",
       "      <th>16</th>\n",
       "      <td>Soul</td>\n",
       "      <td>57400000</td>\n",
       "      <td>Family|Animation|Comedy|Drama|Music|Fantasy|</td>\n",
       "    </tr>\n",
       "    <tr>\n",
       "      <th>17</th>\n",
       "      <td>Mulan</td>\n",
       "      <td>57000000</td>\n",
       "      <td>Adventure|Fantasy|</td>\n",
       "    </tr>\n",
       "    <tr>\n",
       "      <th>18</th>\n",
       "      <td>Tolo Tolo</td>\n",
       "      <td>52186426</td>\n",
       "      <td>Comedy|Drama|Family|</td>\n",
       "    </tr>\n",
       "    <tr>\n",
       "      <th>19</th>\n",
       "      <td>Greenland</td>\n",
       "      <td>47800000</td>\n",
       "      <td>Action|</td>\n",
       "    </tr>\n",
       "  </tbody>\n",
       "</table>\n",
       "</div>"
      ],
      "text/plain": [
       "                                                 film    revenue  \\\n",
       "0                                               babai  460919368   \n",
       "1   Metallica  WorldWired Tour   Live in Mancheste...  426900000   \n",
       "2                                   Bad Boys for Life  426505244   \n",
       "3              juchangban guimie ren wuxianliechebian  399180000   \n",
       "4                                               Tenet  363129000   \n",
       "5                                  Sonic the Hedgehog  306766470   \n",
       "6                                            Dolittle  245692007   \n",
       "7                                           jiangziya  240656068   \n",
       "8   Birds of Prey  and the Fantabulous Emancipatio...  201858461   \n",
       "9                                   Wonder Woman 1984  159533000   \n",
       "10                                             Onward  141592359   \n",
       "11                              The Croods  A New Age  135076090   \n",
       "12                                  The Invisible Man  130234661   \n",
       "13                               The Call of the Wild  107604626   \n",
       "14  Manbaby Cries Because He Isn t Added to Discor...   99000000   \n",
       "15                                           qingyaji   69000000   \n",
       "16                                               Soul   57400000   \n",
       "17                                              Mulan   57000000   \n",
       "18                                          Tolo Tolo   52186426   \n",
       "19                                          Greenland   47800000   \n",
       "\n",
       "                                            genre  \n",
       "0                       War|History|Drama|Action|  \n",
       "1                                          Music|  \n",
       "2                          Thriller|Action|Crime|  \n",
       "3       Animation|Action|Adventure|Fantasy|Drama|  \n",
       "4                Action|Thriller|Science Fiction|  \n",
       "5           Action|Science Fiction|Comedy|Family|  \n",
       "6                       Family|Fantasy|Adventure|  \n",
       "7             Animation|Action|Fantasy|Adventure|  \n",
       "8                                   Action|Crime|  \n",
       "9                       Fantasy|Action|Adventure|  \n",
       "10     Animation|Family|Adventure|Comedy|Fantasy|  \n",
       "11               Family|Fantasy|Animation|Comedy|  \n",
       "12               Thriller|Science Fiction|Horror|  \n",
       "13                        Drama|Adventure|Family|  \n",
       "14                                           War|  \n",
       "15  Action|Drama|Fantasy|Mystery|Science Fiction|  \n",
       "16   Family|Animation|Comedy|Drama|Music|Fantasy|  \n",
       "17                             Adventure|Fantasy|  \n",
       "18                           Comedy|Drama|Family|  \n",
       "19                                        Action|  "
      ]
     },
     "execution_count": 150,
     "metadata": {},
     "output_type": "execute_result"
    }
   ],
   "source": [
    "df"
   ]
  },
  {
   "cell_type": "code",
   "execution_count": 143,
   "id": "scientific-partner",
   "metadata": {},
   "outputs": [
    {
     "data": {
      "text/plain": [
       "<AxesSubplot:xlabel='revenue', ylabel='film'>"
      ]
     },
     "execution_count": 143,
     "metadata": {},
     "output_type": "execute_result"
    },
    {
     "data": {
      "image/png": "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\n",
      "text/plain": [
       "<Figure size 720x864 with 1 Axes>"
      ]
     },
     "metadata": {},
     "output_type": "display_data"
    }
   ],
   "source": [
    "f = plt.figure(figsize=(10, 12))\n",
    "sb.barplot(x=\"revenue\", y=\"film\", data= df)"
   ]
  },
  {
   "cell_type": "code",
   "execution_count": 115,
   "id": "russian-netscape",
   "metadata": {},
   "outputs": [],
   "source": [
    "film_revenue = film_revenue.json()"
   ]
  },
  {
   "cell_type": "code",
   "execution_count": 116,
   "id": "hearing-massage",
   "metadata": {},
   "outputs": [
    {
     "name": "stdout",
     "output_type": "stream",
     "text": [
      "War\n",
      "History\n",
      "Drama\n",
      "Action\n"
     ]
    }
   ],
   "source": [
    "for i in range(len(film_revenue['genres'])):\n",
    "    print(film_revenue['genres'][i]['name'])"
   ]
  },
  {
   "cell_type": "code",
   "execution_count": 117,
   "id": "bored-kennedy",
   "metadata": {},
   "outputs": [
    {
     "data": {
      "text/plain": [
       "{'adult': False,\n",
       " 'backdrop_path': '/hmNKg4hN2BYftaCJGdKHyETFFki.jpg',\n",
       " 'belongs_to_collection': None,\n",
       " 'budget': 80000000,\n",
       " 'genres': [{'id': 10752, 'name': 'War'},\n",
       "  {'id': 36, 'name': 'History'},\n",
       "  {'id': 18, 'name': 'Drama'},\n",
       "  {'id': 28, 'name': 'Action'}],\n",
       " 'homepage': 'https://cmc-pictures.com/the-eight-hundred/',\n",
       " 'id': 508935,\n",
       " 'imdb_id': 'tt7294150',\n",
       " 'original_language': 'zh',\n",
       " 'original_title': '八佰',\n",
       " 'overview': 'In 1937, eight hundred Chinese soldiers fight under siege from a warehouse in the middle of the Shanghai battlefield, completely surrounded by the Japanese army.',\n",
       " 'popularity': 13.865,\n",
       " 'poster_path': '/2tuJiQQUJNZgEmBgBfNVaYvAnPT.jpg',\n",
       " 'production_companies': [{'id': 112270,\n",
       "   'logo_path': None,\n",
       "   'name': 'Beijing Diqi Yinxiang Entertainment',\n",
       "   'origin_country': ''},\n",
       "  {'id': 3393,\n",
       "   'logo_path': None,\n",
       "   'name': 'Huayi Brothers Pictures',\n",
       "   'origin_country': 'CN'}],\n",
       " 'production_countries': [{'iso_3166_1': 'CN', 'name': 'China'}],\n",
       " 'release_date': '2020-08-14',\n",
       " 'revenue': 460919368,\n",
       " 'runtime': 147,\n",
       " 'spoken_languages': [{'english_name': 'English',\n",
       "   'iso_639_1': 'en',\n",
       "   'name': 'English'},\n",
       "  {'english_name': 'Japanese', 'iso_639_1': 'ja', 'name': '日本語'},\n",
       "  {'english_name': 'Mandarin', 'iso_639_1': 'zh', 'name': '普通话'}],\n",
       " 'status': 'Released',\n",
       " 'tagline': '',\n",
       " 'title': 'The Eight Hundred',\n",
       " 'video': False,\n",
       " 'vote_average': 7.3,\n",
       " 'vote_count': 55}"
      ]
     },
     "execution_count": 117,
     "metadata": {},
     "output_type": "execute_result"
    }
   ],
   "source": [
    "film_revenue"
   ]
  },
  {
   "cell_type": "code",
   "execution_count": 145,
   "id": "entertaining-school",
   "metadata": {},
   "outputs": [
    {
     "data": {
      "text/plain": [
       "Text(0.5, 0, 'Number of movies')"
      ]
     },
     "execution_count": 145,
     "metadata": {},
     "output_type": "execute_result"
    },
    {
     "data": {
      "image/png": "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\n",
      "text/plain": [
       "<Figure size 1440x720 with 1 Axes>"
      ]
     },
     "metadata": {},
     "output_type": "display_data"
    }
   ],
   "source": [
    "Genre=pd.Series(df['genre'].str.cat(sep = '|').split(\"|\"))\n",
    "Genre.value_counts(ascending=True).plot(kind=\"barh\",figsize=(20,10), fontsize=12,color=\"#2E86C1\")\n",
    "\n",
    "\n",
    "plt.title(\"Number of movies released by Genre\", fontsize=18)\n",
    "plt.ylabel(\"Genre\", fontsize=16)\n",
    "plt.xlabel(\"Number of movies\", fontsize=16)"
   ]
  },
  {
   "cell_type": "code",
   "execution_count": 146,
   "id": "abroad-power",
   "metadata": {},
   "outputs": [
    {
     "ename": "TypeError",
     "evalue": "'tuple' object is not callable",
     "output_type": "error",
     "traceback": [
      "\u001b[1;31m---------------------------------------------------------------------------\u001b[0m",
      "\u001b[1;31mTypeError\u001b[0m                                 Traceback (most recent call last)",
      "\u001b[1;32m<ipython-input-146-0e566b70f572>\u001b[0m in \u001b[0;36m<module>\u001b[1;34m\u001b[0m\n\u001b[1;32m----> 1\u001b[1;33m \u001b[0mdf\u001b[0m\u001b[1;33m.\u001b[0m\u001b[0mshape\u001b[0m\u001b[1;33m(\u001b[0m\u001b[1;33m)\u001b[0m\u001b[1;33m\u001b[0m\u001b[1;33m\u001b[0m\u001b[0m\n\u001b[0m",
      "\u001b[1;31mTypeError\u001b[0m: 'tuple' object is not callable"
     ]
    }
   ],
   "source": []
  },
  {
   "cell_type": "code",
   "execution_count": null,
   "id": "funded-professor",
   "metadata": {},
   "outputs": [],
   "source": []
  }
 ],
 "metadata": {
  "kernelspec": {
   "display_name": "Python 3",
   "language": "python",
   "name": "python3"
  },
  "language_info": {
   "codemirror_mode": {
    "name": "ipython",
    "version": 3
   },
   "file_extension": ".py",
   "mimetype": "text/x-python",
   "name": "python",
   "nbconvert_exporter": "python",
   "pygments_lexer": "ipython3",
   "version": "3.8.5"
  }
 },
 "nbformat": 4,
 "nbformat_minor": 5
}
