{
 "cells": [
  {
   "cell_type": "markdown",
   "id": "ceramic-behavior",
   "metadata": {},
   "source": [
    "### Basic import and some introduction"
   ]
  },
  {
   "cell_type": "code",
   "execution_count": 1,
   "id": "precious-innocent",
   "metadata": {},
   "outputs": [],
   "source": [
    "import requests # to make TMDB API calls\n",
    "import locale # to format currency as USD\n",
    "locale.setlocale( locale.LC_ALL, '' )\n",
    "import pinyin\n",
    "\n",
    "import pandas as pd\n",
    "import matplotlib\n",
    "import matplotlib.pyplot as plt\n",
    "from matplotlib.ticker import FuncFormatter # to format currency on charts axis\n",
    "\n",
    "\n",
    "# Basic Libraries\n",
    "import numpy as np\n",
    "import pandas as pd\n",
    "import seaborn as sb\n",
    "\n"
   ]
  },
  {
   "cell_type": "code",
   "execution_count": 2,
   "id": "furnished-sudan",
   "metadata": {},
   "outputs": [],
   "source": [
    "response = requests.get(\"https://api.themoviedb.org/3/discover/movie?api_key=\" + api_token+ \"&sort_by=revenue.desc\")"
   ]
  },
  {
   "cell_type": "code",
   "execution_count": 3,
   "id": "developing-entrepreneur",
   "metadata": {},
   "outputs": [
    {
     "name": "stdout",
     "output_type": "stream",
     "text": [
      "200\n"
     ]
    }
   ],
   "source": [
    "print(response.status_code)"
   ]
  },
  {
   "cell_type": "code",
   "execution_count": 4,
   "id": "pacific-football",
   "metadata": {},
   "outputs": [],
   "source": [
    "result = response.json()\n",
    "titles = result['results']"
   ]
  },
  {
   "cell_type": "code",
   "execution_count": 5,
   "id": "functional-sharp",
   "metadata": {},
   "outputs": [
    {
     "name": "stdout",
     "output_type": "stream",
     "text": [
      "{'adult': False, 'backdrop_path': '/hmNKg4hN2BYftaCJGdKHyETFFki.jpg', 'genre_ids': [10752, 36, 18, 28], 'id': 508935, 'original_language': 'zh', 'original_title': '八佰', 'overview': 'In 1937, eight hundred Chinese soldiers fight under siege from a warehouse in the middle of the Shanghai battlefield, completely surrounded by the Japanese army.', 'popularity': 15.607, 'poster_path': '/2tuJiQQUJNZgEmBgBfNVaYvAnPT.jpg', 'release_date': '2020-08-14', 'title': 'The Eight Hundred', 'video': False, 'vote_average': 7.3, 'vote_count': 55}\n"
     ]
    }
   ],
   "source": [
    "print(titles[0])"
   ]
  },
  {
   "cell_type": "code",
   "execution_count": 6,
   "id": "missing-compression",
   "metadata": {},
   "outputs": [
    {
     "name": "stdout",
     "output_type": "stream",
     "text": [
      "dict_keys(['adult', 'backdrop_path', 'genre_ids', 'id', 'original_language', 'original_title', 'overview', 'popularity', 'poster_path', 'release_date', 'title', 'video', 'vote_average', 'vote_count'])\n"
     ]
    }
   ],
   "source": [
    "print(titles[0].keys())"
   ]
  },
  {
   "cell_type": "markdown",
   "id": "stopped-nylon",
   "metadata": {},
   "source": [
    "| Key        | \n",
    "| --------------: |\n",
    "| adult        |\n",
    "| backdrop_path        |\n",
    "| genre_ids       |\n",
    "| id       |\n",
    "| original_language        |\n",
    "| original_title        |\n",
    "| overview        |\n",
    "| popularity        |\n",
    "| poster_path        |\n",
    "| release_date        |\n",
    "| title        |\n",
    "| video        |\n",
    "| vote_average    |\n",
    "| vote_count      |\n"
   ]
  },
  {
   "cell_type": "code",
   "execution_count": null,
   "id": "visible-microwave",
   "metadata": {},
   "outputs": [],
   "source": []
  },
  {
   "cell_type": "markdown",
   "id": "confused-flavor",
   "metadata": {},
   "source": [
    "## 1) Start of Dataframe df\n",
    "contains the general movie details from the movie preview"
   ]
  },
  {
   "cell_type": "code",
   "execution_count": 7,
   "id": "affected-suite",
   "metadata": {},
   "outputs": [],
   "source": [
    "new_dict = {}"
   ]
  },
  {
   "cell_type": "code",
   "execution_count": 8,
   "id": "damaged-highlight",
   "metadata": {},
   "outputs": [
    {
     "name": "stdout",
     "output_type": "stream",
     "text": [
      "八佰\n",
      "Metallica: WorldWired Tour - Live in Manchester, England - June 18, 2019\n",
      "Bad Boys for Life\n",
      "劇場版「鬼滅の刃」無限列車編\n",
      "Tenet\n",
      "Sonic the Hedgehog\n",
      "Dolittle\n",
      "姜子牙\n",
      "Birds of Prey (and the Fantabulous Emancipation of One Harley Quinn)\n",
      "Wonder Woman 1984\n",
      "Onward\n",
      "The Croods: A New Age\n",
      "The Invisible Man\n",
      "The Call of the Wild\n",
      "Manbaby Cries Because He Isn't Added to Discord Chat (Gone Wrong)\n",
      "晴雅集\n",
      "Soul\n",
      "Mulan\n",
      "Tolo Tolo\n",
      "Greenland\n"
     ]
    }
   ],
   "source": [
    "for i in range(len(titles)) :\n",
    "    print(titles[i]['original_title'])\n",
    "    new_dict[str(titles[i]['original_title'])] = [titles[i]['popularity'], titles[i]['release_date'], titles[i]['vote_count'], titles[i]['id'],titles[i]['release_date']]"
   ]
  },
  {
   "cell_type": "code",
   "execution_count": 9,
   "id": "affected-cleaning",
   "metadata": {},
   "outputs": [
    {
     "data": {
      "text/plain": [
       "{'八佰': [15.607, '2020-08-14', 55, 508935, '2020-08-14'],\n",
       " 'Metallica: WorldWired Tour - Live in Manchester, England - June 18, 2019': [3.809,\n",
       "  '2020-06-08',\n",
       "  0,\n",
       "  715904,\n",
       "  '2020-06-08'],\n",
       " 'Bad Boys for Life': [392.86, '2020-01-15', 6085, 38700, '2020-01-15'],\n",
       " '劇場版「鬼滅の刃」無限列車編': [198.298, '2020-10-16', 496, 635302, '2020-10-16'],\n",
       " 'Tenet': [474.155, '2020-08-22', 4720, 577922, '2020-08-22'],\n",
       " 'Sonic the Hedgehog': [103.599, '2020-02-12', 6633, 454626, '2020-02-12'],\n",
       " 'Dolittle': [52.98, '2020-01-01', 2461, 448119, '2020-01-01'],\n",
       " '姜子牙': [17.499, '2020-10-01', 9, 635389, '2020-10-01'],\n",
       " 'Birds of Prey (and the Fantabulous Emancipation of One Harley Quinn)': [645.658,\n",
       "  '2020-02-05',\n",
       "  7131,\n",
       "  495764,\n",
       "  '2020-02-05'],\n",
       " 'Wonder Woman 1984': [1630.787, '2020-12-16', 4304, 464052, '2020-12-16'],\n",
       " 'Onward': [60.932, '2020-02-29', 4024, 508439, '2020-02-29'],\n",
       " 'The Croods: A New Age': [632.643, '2020-11-25', 1744, 529203, '2020-11-25'],\n",
       " 'The Invisible Man': [41.873, '2020-02-26', 3540, 570670, '2020-02-26'],\n",
       " 'The Call of the Wild': [50.786, '2020-02-19', 2379, 481848, '2020-02-19'],\n",
       " \"Manbaby Cries Because He Isn't Added to Discord Chat (Gone Wrong)\": [0.6,\n",
       "  '2020-02-19',\n",
       "  1,\n",
       "  774455,\n",
       "  '2020-02-19'],\n",
       " '晴雅集': [20.984, '2020-12-24', 46, 757860, '2020-12-24'],\n",
       " 'Soul': [631.76, '2020-12-25', 5281, 508442, '2020-12-25'],\n",
       " 'Mulan': [254.078, '2020-09-04', 4469, 337401, '2020-09-04'],\n",
       " 'Tolo Tolo': [10.188, '2020-01-01', 894, 593402, '2020-01-01'],\n",
       " 'Greenland': [122.886, '2020-07-29', 2244, 524047, '2020-07-29']}"
      ]
     },
     "execution_count": 9,
     "metadata": {},
     "output_type": "execute_result"
    }
   ],
   "source": [
    "new_dict"
   ]
  },
  {
   "cell_type": "code",
   "execution_count": 127,
   "id": "mounted-proceeding",
   "metadata": {},
   "outputs": [
    {
     "data": {
      "text/html": [
       "<div>\n",
       "<style scoped>\n",
       "    .dataframe tbody tr th:only-of-type {\n",
       "        vertical-align: middle;\n",
       "    }\n",
       "\n",
       "    .dataframe tbody tr th {\n",
       "        vertical-align: top;\n",
       "    }\n",
       "\n",
       "    .dataframe thead th {\n",
       "        text-align: right;\n",
       "    }\n",
       "</style>\n",
       "<table border=\"1\" class=\"dataframe\">\n",
       "  <thead>\n",
       "    <tr style=\"text-align: right;\">\n",
       "      <th></th>\n",
       "      <th>popularity</th>\n",
       "      <th>release-date</th>\n",
       "      <th>vote count</th>\n",
       "      <th>id</th>\n",
       "      <th>release_date</th>\n",
       "    </tr>\n",
       "  </thead>\n",
       "  <tbody>\n",
       "    <tr>\n",
       "      <th>八佰</th>\n",
       "      <td>15.607</td>\n",
       "      <td>2020-08-14</td>\n",
       "      <td>55</td>\n",
       "      <td>508935</td>\n",
       "      <td>2020-08-14</td>\n",
       "    </tr>\n",
       "    <tr>\n",
       "      <th>Metallica: WorldWired Tour - Live in Manchester, England - June 18, 2019</th>\n",
       "      <td>3.809</td>\n",
       "      <td>2020-06-08</td>\n",
       "      <td>0</td>\n",
       "      <td>715904</td>\n",
       "      <td>2020-06-08</td>\n",
       "    </tr>\n",
       "    <tr>\n",
       "      <th>Bad Boys for Life</th>\n",
       "      <td>392.860</td>\n",
       "      <td>2020-01-15</td>\n",
       "      <td>6085</td>\n",
       "      <td>38700</td>\n",
       "      <td>2020-01-15</td>\n",
       "    </tr>\n",
       "    <tr>\n",
       "      <th>劇場版「鬼滅の刃」無限列車編</th>\n",
       "      <td>198.298</td>\n",
       "      <td>2020-10-16</td>\n",
       "      <td>496</td>\n",
       "      <td>635302</td>\n",
       "      <td>2020-10-16</td>\n",
       "    </tr>\n",
       "    <tr>\n",
       "      <th>Tenet</th>\n",
       "      <td>474.155</td>\n",
       "      <td>2020-08-22</td>\n",
       "      <td>4720</td>\n",
       "      <td>577922</td>\n",
       "      <td>2020-08-22</td>\n",
       "    </tr>\n",
       "    <tr>\n",
       "      <th>Sonic the Hedgehog</th>\n",
       "      <td>103.599</td>\n",
       "      <td>2020-02-12</td>\n",
       "      <td>6633</td>\n",
       "      <td>454626</td>\n",
       "      <td>2020-02-12</td>\n",
       "    </tr>\n",
       "    <tr>\n",
       "      <th>Dolittle</th>\n",
       "      <td>52.980</td>\n",
       "      <td>2020-01-01</td>\n",
       "      <td>2461</td>\n",
       "      <td>448119</td>\n",
       "      <td>2020-01-01</td>\n",
       "    </tr>\n",
       "    <tr>\n",
       "      <th>姜子牙</th>\n",
       "      <td>17.499</td>\n",
       "      <td>2020-10-01</td>\n",
       "      <td>9</td>\n",
       "      <td>635389</td>\n",
       "      <td>2020-10-01</td>\n",
       "    </tr>\n",
       "    <tr>\n",
       "      <th>Birds of Prey (and the Fantabulous Emancipation of One Harley Quinn)</th>\n",
       "      <td>645.658</td>\n",
       "      <td>2020-02-05</td>\n",
       "      <td>7131</td>\n",
       "      <td>495764</td>\n",
       "      <td>2020-02-05</td>\n",
       "    </tr>\n",
       "    <tr>\n",
       "      <th>Wonder Woman 1984</th>\n",
       "      <td>1630.787</td>\n",
       "      <td>2020-12-16</td>\n",
       "      <td>4304</td>\n",
       "      <td>464052</td>\n",
       "      <td>2020-12-16</td>\n",
       "    </tr>\n",
       "    <tr>\n",
       "      <th>Onward</th>\n",
       "      <td>60.932</td>\n",
       "      <td>2020-02-29</td>\n",
       "      <td>4024</td>\n",
       "      <td>508439</td>\n",
       "      <td>2020-02-29</td>\n",
       "    </tr>\n",
       "    <tr>\n",
       "      <th>The Croods: A New Age</th>\n",
       "      <td>632.643</td>\n",
       "      <td>2020-11-25</td>\n",
       "      <td>1744</td>\n",
       "      <td>529203</td>\n",
       "      <td>2020-11-25</td>\n",
       "    </tr>\n",
       "    <tr>\n",
       "      <th>The Invisible Man</th>\n",
       "      <td>41.873</td>\n",
       "      <td>2020-02-26</td>\n",
       "      <td>3540</td>\n",
       "      <td>570670</td>\n",
       "      <td>2020-02-26</td>\n",
       "    </tr>\n",
       "    <tr>\n",
       "      <th>The Call of the Wild</th>\n",
       "      <td>50.786</td>\n",
       "      <td>2020-02-19</td>\n",
       "      <td>2379</td>\n",
       "      <td>481848</td>\n",
       "      <td>2020-02-19</td>\n",
       "    </tr>\n",
       "    <tr>\n",
       "      <th>Manbaby Cries Because He Isn't Added to Discord Chat (Gone Wrong)</th>\n",
       "      <td>0.600</td>\n",
       "      <td>2020-02-19</td>\n",
       "      <td>1</td>\n",
       "      <td>774455</td>\n",
       "      <td>2020-02-19</td>\n",
       "    </tr>\n",
       "    <tr>\n",
       "      <th>晴雅集</th>\n",
       "      <td>20.984</td>\n",
       "      <td>2020-12-24</td>\n",
       "      <td>46</td>\n",
       "      <td>757860</td>\n",
       "      <td>2020-12-24</td>\n",
       "    </tr>\n",
       "    <tr>\n",
       "      <th>Soul</th>\n",
       "      <td>631.760</td>\n",
       "      <td>2020-12-25</td>\n",
       "      <td>5281</td>\n",
       "      <td>508442</td>\n",
       "      <td>2020-12-25</td>\n",
       "    </tr>\n",
       "    <tr>\n",
       "      <th>Mulan</th>\n",
       "      <td>254.078</td>\n",
       "      <td>2020-09-04</td>\n",
       "      <td>4469</td>\n",
       "      <td>337401</td>\n",
       "      <td>2020-09-04</td>\n",
       "    </tr>\n",
       "    <tr>\n",
       "      <th>Tolo Tolo</th>\n",
       "      <td>10.188</td>\n",
       "      <td>2020-01-01</td>\n",
       "      <td>894</td>\n",
       "      <td>593402</td>\n",
       "      <td>2020-01-01</td>\n",
       "    </tr>\n",
       "    <tr>\n",
       "      <th>Greenland</th>\n",
       "      <td>122.886</td>\n",
       "      <td>2020-07-29</td>\n",
       "      <td>2244</td>\n",
       "      <td>524047</td>\n",
       "      <td>2020-07-29</td>\n",
       "    </tr>\n",
       "  </tbody>\n",
       "</table>\n",
       "</div>"
      ],
      "text/plain": [
       "                                                    popularity release-date  \\\n",
       "八佰                                                      15.607   2020-08-14   \n",
       "Metallica: WorldWired Tour - Live in Manchester...       3.809   2020-06-08   \n",
       "Bad Boys for Life                                      392.860   2020-01-15   \n",
       "劇場版「鬼滅の刃」無限列車編                                         198.298   2020-10-16   \n",
       "Tenet                                                  474.155   2020-08-22   \n",
       "Sonic the Hedgehog                                     103.599   2020-02-12   \n",
       "Dolittle                                                52.980   2020-01-01   \n",
       "姜子牙                                                     17.499   2020-10-01   \n",
       "Birds of Prey (and the Fantabulous Emancipation...     645.658   2020-02-05   \n",
       "Wonder Woman 1984                                     1630.787   2020-12-16   \n",
       "Onward                                                  60.932   2020-02-29   \n",
       "The Croods: A New Age                                  632.643   2020-11-25   \n",
       "The Invisible Man                                       41.873   2020-02-26   \n",
       "The Call of the Wild                                    50.786   2020-02-19   \n",
       "Manbaby Cries Because He Isn't Added to Discord...       0.600   2020-02-19   \n",
       "晴雅集                                                     20.984   2020-12-24   \n",
       "Soul                                                   631.760   2020-12-25   \n",
       "Mulan                                                  254.078   2020-09-04   \n",
       "Tolo Tolo                                               10.188   2020-01-01   \n",
       "Greenland                                              122.886   2020-07-29   \n",
       "\n",
       "                                                    vote count      id  \\\n",
       "八佰                                                          55  508935   \n",
       "Metallica: WorldWired Tour - Live in Manchester...           0  715904   \n",
       "Bad Boys for Life                                         6085   38700   \n",
       "劇場版「鬼滅の刃」無限列車編                                             496  635302   \n",
       "Tenet                                                     4720  577922   \n",
       "Sonic the Hedgehog                                        6633  454626   \n",
       "Dolittle                                                  2461  448119   \n",
       "姜子牙                                                          9  635389   \n",
       "Birds of Prey (and the Fantabulous Emancipation...        7131  495764   \n",
       "Wonder Woman 1984                                         4304  464052   \n",
       "Onward                                                    4024  508439   \n",
       "The Croods: A New Age                                     1744  529203   \n",
       "The Invisible Man                                         3540  570670   \n",
       "The Call of the Wild                                      2379  481848   \n",
       "Manbaby Cries Because He Isn't Added to Discord...           1  774455   \n",
       "晴雅集                                                         46  757860   \n",
       "Soul                                                      5281  508442   \n",
       "Mulan                                                     4469  337401   \n",
       "Tolo Tolo                                                  894  593402   \n",
       "Greenland                                                 2244  524047   \n",
       "\n",
       "                                                   release_date  \n",
       "八佰                                                   2020-08-14  \n",
       "Metallica: WorldWired Tour - Live in Manchester...   2020-06-08  \n",
       "Bad Boys for Life                                    2020-01-15  \n",
       "劇場版「鬼滅の刃」無限列車編                                       2020-10-16  \n",
       "Tenet                                                2020-08-22  \n",
       "Sonic the Hedgehog                                   2020-02-12  \n",
       "Dolittle                                             2020-01-01  \n",
       "姜子牙                                                  2020-10-01  \n",
       "Birds of Prey (and the Fantabulous Emancipation...   2020-02-05  \n",
       "Wonder Woman 1984                                    2020-12-16  \n",
       "Onward                                               2020-02-29  \n",
       "The Croods: A New Age                                2020-11-25  \n",
       "The Invisible Man                                    2020-02-26  \n",
       "The Call of the Wild                                 2020-02-19  \n",
       "Manbaby Cries Because He Isn't Added to Discord...   2020-02-19  \n",
       "晴雅集                                                  2020-12-24  \n",
       "Soul                                                 2020-12-25  \n",
       "Mulan                                                2020-09-04  \n",
       "Tolo Tolo                                            2020-01-01  \n",
       "Greenland                                            2020-07-29  "
      ]
     },
     "execution_count": 127,
     "metadata": {},
     "output_type": "execute_result"
    }
   ],
   "source": [
    "data = pd.DataFrame.from_dict(new_dict, orient = 'index', columns = ['popularity', 'release-date', 'vote count','id','release_date'])\n",
    "data"
   ]
  },
  {
   "cell_type": "code",
   "execution_count": null,
   "id": "confirmed-millennium",
   "metadata": {},
   "outputs": [],
   "source": []
  },
  {
   "cell_type": "markdown",
   "id": "emerging-authentication",
   "metadata": {},
   "source": [
    "---\n",
    "## 2) Finding highest revenue\n",
    "https://dev.to/m0nica/how-to-use-the-tmdb-api-to-find-films-with-the-highest-revenue-82p\n",
    "\n",
    "Start of data analysis by finding which movie earn the most"
   ]
  },
  {
   "cell_type": "code",
   "execution_count": 11,
   "id": "welsh-congress",
   "metadata": {},
   "outputs": [
    {
     "data": {
      "text/html": [
       "<div>\n",
       "<style scoped>\n",
       "    .dataframe tbody tr th:only-of-type {\n",
       "        vertical-align: middle;\n",
       "    }\n",
       "\n",
       "    .dataframe tbody tr th {\n",
       "        vertical-align: top;\n",
       "    }\n",
       "\n",
       "    .dataframe thead th {\n",
       "        text-align: right;\n",
       "    }\n",
       "</style>\n",
       "<table border=\"1\" class=\"dataframe\">\n",
       "  <thead>\n",
       "    <tr style=\"text-align: right;\">\n",
       "      <th></th>\n",
       "      <th>film</th>\n",
       "      <th>revenue</th>\n",
       "      <th>genre</th>\n",
       "      <th>no_of_genres</th>\n",
       "    </tr>\n",
       "  </thead>\n",
       "  <tbody>\n",
       "  </tbody>\n",
       "</table>\n",
       "</div>"
      ],
      "text/plain": [
       "Empty DataFrame\n",
       "Columns: [film, revenue, genre, no_of_genres]\n",
       "Index: []"
      ]
     },
     "execution_count": 11,
     "metadata": {},
     "output_type": "execute_result"
    }
   ],
   "source": [
    "# define column names for our new dataframe\n",
    "columns = ['film', 'revenue','genre', 'no_of_genres']\n",
    "\n",
    "# create dataframe with film and revenue columns\n",
    "df = pd.DataFrame(columns=columns)\n",
    "df"
   ]
  },
  {
   "cell_type": "code",
   "execution_count": 12,
   "id": "reduced-screening",
   "metadata": {},
   "outputs": [
    {
     "data": {
      "text/plain": [
       "[10752, 36, 18, 28]"
      ]
     },
     "execution_count": 12,
     "metadata": {},
     "output_type": "execute_result"
    }
   ],
   "source": [
    " titles[0]['genre_ids']"
   ]
  },
  {
   "cell_type": "markdown",
   "id": "structured-ready",
   "metadata": {},
   "source": [
    "Some movie names are in chinese hence cant plot out using catplot"
   ]
  },
  {
   "cell_type": "code",
   "execution_count": 13,
   "id": "neural-vienna",
   "metadata": {},
   "outputs": [
    {
     "name": "stdout",
     "output_type": "stream",
     "text": [
      "babai\n"
     ]
    }
   ],
   "source": [
    "en = pinyin.get(titles[0]['original_title'], format=\"strip\", delimiter=\"\")\n",
    "print(en)"
   ]
  },
  {
   "cell_type": "markdown",
   "id": "initial-testimony",
   "metadata": {},
   "source": [
    "Hence using `pinyin` we can convert them to english"
   ]
  },
  {
   "cell_type": "code",
   "execution_count": 14,
   "id": "normal-visiting",
   "metadata": {},
   "outputs": [],
   "source": [
    "for i in range(len(titles)) :\n",
    "    en = pinyin.get(titles[i]['original_title'], format=\"strip\", delimiter=\"\")\n",
    "    if(en.isalnum() == False):    # failed checking for の char\n",
    "        temp_str = ''\n",
    "        for k in en :\n",
    "            if(k.isalnum()):\n",
    "                temp_str += k\n",
    "            else :\n",
    "                temp_str += ' '\n",
    "        en = temp_str\n",
    "    titles[i]['original_title'] = en\n",
    "    \n",
    "\n",
    "    \n",
    "titles[3]['original_title'] = 'juchangban guimie ren wuxianliechebian'   # temporary solution for non alpnum char\n",
    "\n"
   ]
  },
  {
   "cell_type": "code",
   "execution_count": 15,
   "id": "organized-camping",
   "metadata": {},
   "outputs": [],
   "source": [
    "for i in range(len(titles)) :\n",
    "    genre = ''\n",
    "    no_gen = 0\n",
    "    film_revenue = requests.get('https://api.themoviedb.org/3/movie/'+ str(titles[i]['id']) +'?api_key='+ api_token+'&language=en-US')\n",
    "    film_revenue = film_revenue.json()\n",
    "    title = titles[i]['original_title']\n",
    "    for i in range(len(film_revenue['genres'])):\n",
    "        genre += '|'\n",
    "        genre += film_revenue['genres'][i]['name']\n",
    "        no_gen += 1\n",
    "        \n",
    "    df.loc[len(df)]=[title,film_revenue['revenue'],genre, no_gen] # store title and revenue in our dataframe \n"
   ]
  },
  {
   "cell_type": "markdown",
   "id": "developed-plasma",
   "metadata": {},
   "source": [
    "adding to dataframe"
   ]
  },
  {
   "cell_type": "code",
   "execution_count": 16,
   "id": "touched-simulation",
   "metadata": {},
   "outputs": [
    {
     "data": {
      "text/html": [
       "<div>\n",
       "<style scoped>\n",
       "    .dataframe tbody tr th:only-of-type {\n",
       "        vertical-align: middle;\n",
       "    }\n",
       "\n",
       "    .dataframe tbody tr th {\n",
       "        vertical-align: top;\n",
       "    }\n",
       "\n",
       "    .dataframe thead th {\n",
       "        text-align: right;\n",
       "    }\n",
       "</style>\n",
       "<table border=\"1\" class=\"dataframe\">\n",
       "  <thead>\n",
       "    <tr style=\"text-align: right;\">\n",
       "      <th></th>\n",
       "      <th>film</th>\n",
       "      <th>revenue</th>\n",
       "      <th>genre</th>\n",
       "      <th>no_of_genres</th>\n",
       "    </tr>\n",
       "  </thead>\n",
       "  <tbody>\n",
       "    <tr>\n",
       "      <th>0</th>\n",
       "      <td>babai</td>\n",
       "      <td>460919368</td>\n",
       "      <td>|War|History|Drama|Action</td>\n",
       "      <td>4</td>\n",
       "    </tr>\n",
       "    <tr>\n",
       "      <th>1</th>\n",
       "      <td>Metallica  WorldWired Tour   Live in Mancheste...</td>\n",
       "      <td>426900000</td>\n",
       "      <td>|Music</td>\n",
       "      <td>1</td>\n",
       "    </tr>\n",
       "    <tr>\n",
       "      <th>2</th>\n",
       "      <td>Bad Boys for Life</td>\n",
       "      <td>426505244</td>\n",
       "      <td>|Thriller|Action|Crime</td>\n",
       "      <td>3</td>\n",
       "    </tr>\n",
       "    <tr>\n",
       "      <th>3</th>\n",
       "      <td>juchangban guimie ren wuxianliechebian</td>\n",
       "      <td>399180000</td>\n",
       "      <td>|Animation|Action|Adventure|Fantasy|Drama</td>\n",
       "      <td>5</td>\n",
       "    </tr>\n",
       "    <tr>\n",
       "      <th>4</th>\n",
       "      <td>Tenet</td>\n",
       "      <td>363129000</td>\n",
       "      <td>|Action|Thriller|Science Fiction</td>\n",
       "      <td>3</td>\n",
       "    </tr>\n",
       "    <tr>\n",
       "      <th>5</th>\n",
       "      <td>Sonic the Hedgehog</td>\n",
       "      <td>306766470</td>\n",
       "      <td>|Action|Science Fiction|Comedy|Family</td>\n",
       "      <td>4</td>\n",
       "    </tr>\n",
       "    <tr>\n",
       "      <th>6</th>\n",
       "      <td>Dolittle</td>\n",
       "      <td>245692007</td>\n",
       "      <td>|Family|Fantasy|Adventure</td>\n",
       "      <td>3</td>\n",
       "    </tr>\n",
       "    <tr>\n",
       "      <th>7</th>\n",
       "      <td>jiangziya</td>\n",
       "      <td>240656068</td>\n",
       "      <td>|Animation|Action|Fantasy|Adventure</td>\n",
       "      <td>4</td>\n",
       "    </tr>\n",
       "    <tr>\n",
       "      <th>8</th>\n",
       "      <td>Birds of Prey  and the Fantabulous Emancipatio...</td>\n",
       "      <td>201858461</td>\n",
       "      <td>|Action|Crime</td>\n",
       "      <td>2</td>\n",
       "    </tr>\n",
       "    <tr>\n",
       "      <th>9</th>\n",
       "      <td>Wonder Woman 1984</td>\n",
       "      <td>159533000</td>\n",
       "      <td>|Fantasy|Action|Adventure</td>\n",
       "      <td>3</td>\n",
       "    </tr>\n",
       "    <tr>\n",
       "      <th>10</th>\n",
       "      <td>Onward</td>\n",
       "      <td>141592359</td>\n",
       "      <td>|Animation|Family|Adventure|Comedy|Fantasy</td>\n",
       "      <td>5</td>\n",
       "    </tr>\n",
       "    <tr>\n",
       "      <th>11</th>\n",
       "      <td>The Croods  A New Age</td>\n",
       "      <td>135076090</td>\n",
       "      <td>|Family|Fantasy|Animation|Comedy</td>\n",
       "      <td>4</td>\n",
       "    </tr>\n",
       "    <tr>\n",
       "      <th>12</th>\n",
       "      <td>The Invisible Man</td>\n",
       "      <td>130234661</td>\n",
       "      <td>|Thriller|Science Fiction|Horror</td>\n",
       "      <td>3</td>\n",
       "    </tr>\n",
       "    <tr>\n",
       "      <th>13</th>\n",
       "      <td>The Call of the Wild</td>\n",
       "      <td>107604626</td>\n",
       "      <td>|Drama|Adventure|Family</td>\n",
       "      <td>3</td>\n",
       "    </tr>\n",
       "    <tr>\n",
       "      <th>14</th>\n",
       "      <td>Manbaby Cries Because He Isn t Added to Discor...</td>\n",
       "      <td>99000000</td>\n",
       "      <td>|War</td>\n",
       "      <td>1</td>\n",
       "    </tr>\n",
       "    <tr>\n",
       "      <th>15</th>\n",
       "      <td>qingyaji</td>\n",
       "      <td>69000000</td>\n",
       "      <td>|Action|Drama|Fantasy|Mystery|Science Fiction</td>\n",
       "      <td>5</td>\n",
       "    </tr>\n",
       "    <tr>\n",
       "      <th>16</th>\n",
       "      <td>Soul</td>\n",
       "      <td>57400000</td>\n",
       "      <td>|Family|Animation|Comedy|Drama|Music|Fantasy</td>\n",
       "      <td>6</td>\n",
       "    </tr>\n",
       "    <tr>\n",
       "      <th>17</th>\n",
       "      <td>Mulan</td>\n",
       "      <td>57000000</td>\n",
       "      <td>|Adventure|Fantasy</td>\n",
       "      <td>2</td>\n",
       "    </tr>\n",
       "    <tr>\n",
       "      <th>18</th>\n",
       "      <td>Tolo Tolo</td>\n",
       "      <td>52186426</td>\n",
       "      <td>|Comedy|Drama|Family</td>\n",
       "      <td>3</td>\n",
       "    </tr>\n",
       "    <tr>\n",
       "      <th>19</th>\n",
       "      <td>Greenland</td>\n",
       "      <td>47800000</td>\n",
       "      <td>|Action</td>\n",
       "      <td>1</td>\n",
       "    </tr>\n",
       "  </tbody>\n",
       "</table>\n",
       "</div>"
      ],
      "text/plain": [
       "                                                 film    revenue  \\\n",
       "0                                               babai  460919368   \n",
       "1   Metallica  WorldWired Tour   Live in Mancheste...  426900000   \n",
       "2                                   Bad Boys for Life  426505244   \n",
       "3              juchangban guimie ren wuxianliechebian  399180000   \n",
       "4                                               Tenet  363129000   \n",
       "5                                  Sonic the Hedgehog  306766470   \n",
       "6                                            Dolittle  245692007   \n",
       "7                                           jiangziya  240656068   \n",
       "8   Birds of Prey  and the Fantabulous Emancipatio...  201858461   \n",
       "9                                   Wonder Woman 1984  159533000   \n",
       "10                                             Onward  141592359   \n",
       "11                              The Croods  A New Age  135076090   \n",
       "12                                  The Invisible Man  130234661   \n",
       "13                               The Call of the Wild  107604626   \n",
       "14  Manbaby Cries Because He Isn t Added to Discor...   99000000   \n",
       "15                                           qingyaji   69000000   \n",
       "16                                               Soul   57400000   \n",
       "17                                              Mulan   57000000   \n",
       "18                                          Tolo Tolo   52186426   \n",
       "19                                          Greenland   47800000   \n",
       "\n",
       "                                            genre no_of_genres  \n",
       "0                       |War|History|Drama|Action            4  \n",
       "1                                          |Music            1  \n",
       "2                          |Thriller|Action|Crime            3  \n",
       "3       |Animation|Action|Adventure|Fantasy|Drama            5  \n",
       "4                |Action|Thriller|Science Fiction            3  \n",
       "5           |Action|Science Fiction|Comedy|Family            4  \n",
       "6                       |Family|Fantasy|Adventure            3  \n",
       "7             |Animation|Action|Fantasy|Adventure            4  \n",
       "8                                   |Action|Crime            2  \n",
       "9                       |Fantasy|Action|Adventure            3  \n",
       "10     |Animation|Family|Adventure|Comedy|Fantasy            5  \n",
       "11               |Family|Fantasy|Animation|Comedy            4  \n",
       "12               |Thriller|Science Fiction|Horror            3  \n",
       "13                        |Drama|Adventure|Family            3  \n",
       "14                                           |War            1  \n",
       "15  |Action|Drama|Fantasy|Mystery|Science Fiction            5  \n",
       "16   |Family|Animation|Comedy|Drama|Music|Fantasy            6  \n",
       "17                             |Adventure|Fantasy            2  \n",
       "18                           |Comedy|Drama|Family            3  \n",
       "19                                        |Action            1  "
      ]
     },
     "execution_count": 16,
     "metadata": {},
     "output_type": "execute_result"
    }
   ],
   "source": [
    "df"
   ]
  },
  {
   "cell_type": "code",
   "execution_count": 17,
   "id": "sought-effort",
   "metadata": {},
   "outputs": [
    {
     "data": {
      "text/plain": [
       "<AxesSubplot:xlabel='revenue', ylabel='film'>"
      ]
     },
     "execution_count": 17,
     "metadata": {},
     "output_type": "execute_result"
    },
    {
     "data": {
      "image/png": "[encoded data removed]",
      "text/plain": [
       "<Figure size 720x864 with 1 Axes>"
      ]
     },
     "metadata": {
      "needs_background": "light"
     },
     "output_type": "display_data"
    }
   ],
   "source": [
    "f = plt.figure(figsize=(10, 12))\n",
    "sb.barplot(x=\"revenue\", y=\"film\", data= df)"
   ]
  },
  {
   "cell_type": "code",
   "execution_count": null,
   "id": "stock-highland",
   "metadata": {},
   "outputs": [],
   "source": []
  },
  {
   "cell_type": "markdown",
   "id": "animal-gamma",
   "metadata": {},
   "source": [
    "## 3) Start of analysis of data by comparing the revenue to genres"
   ]
  },
  {
   "cell_type": "code",
   "execution_count": 18,
   "id": "listed-friday",
   "metadata": {},
   "outputs": [],
   "source": [
    "film_revenue = requests.get('https://api.themoviedb.org/3/movie/508935?api_key='+ api_token)\n",
    "film_revenue = film_revenue.json()"
   ]
  },
  {
   "cell_type": "code",
   "execution_count": 19,
   "id": "vocal-afghanistan",
   "metadata": {},
   "outputs": [
    {
     "name": "stdout",
     "output_type": "stream",
     "text": [
      "War\n",
      "History\n",
      "Drama\n",
      "Action\n"
     ]
    }
   ],
   "source": [
    "for i in range(len(film_revenue['genres'])):\n",
    "    print(film_revenue['genres'][i]['name'])"
   ]
  },
  {
   "cell_type": "markdown",
   "id": "danish-kinase",
   "metadata": {},
   "source": [
    "### This is to see what details can be obtained if the movie was searched by id"
   ]
  },
  {
   "cell_type": "code",
   "execution_count": 20,
   "id": "narrow-competition",
   "metadata": {},
   "outputs": [
    {
     "data": {
      "text/plain": [
       "{'adult': False,\n",
       " 'backdrop_path': '/hmNKg4hN2BYftaCJGdKHyETFFki.jpg',\n",
       " 'belongs_to_collection': None,\n",
       " 'budget': 80000000,\n",
       " 'genres': [{'id': 10752, 'name': 'War'},\n",
       "  {'id': 36, 'name': 'History'},\n",
       "  {'id': 18, 'name': 'Drama'},\n",
       "  {'id': 28, 'name': 'Action'}],\n",
       " 'homepage': 'https://cmc-pictures.com/the-eight-hundred/',\n",
       " 'id': 508935,\n",
       " 'imdb_id': 'tt7294150',\n",
       " 'original_language': 'zh',\n",
       " 'original_title': '八佰',\n",
       " 'overview': 'In 1937, eight hundred Chinese soldiers fight under siege from a warehouse in the middle of the Shanghai battlefield, completely surrounded by the Japanese army.',\n",
       " 'popularity': 15.607,\n",
       " 'poster_path': '/2tuJiQQUJNZgEmBgBfNVaYvAnPT.jpg',\n",
       " 'production_companies': [{'id': 112270,\n",
       "   'logo_path': None,\n",
       "   'name': 'Beijing Diqi Yinxiang Entertainment',\n",
       "   'origin_country': ''},\n",
       "  {'id': 3393,\n",
       "   'logo_path': None,\n",
       "   'name': 'Huayi Brothers Pictures',\n",
       "   'origin_country': 'CN'}],\n",
       " 'production_countries': [{'iso_3166_1': 'CN', 'name': 'China'}],\n",
       " 'release_date': '2020-08-14',\n",
       " 'revenue': 460919368,\n",
       " 'runtime': 147,\n",
       " 'spoken_languages': [{'english_name': 'English',\n",
       "   'iso_639_1': 'en',\n",
       "   'name': 'English'},\n",
       "  {'english_name': 'Japanese', 'iso_639_1': 'ja', 'name': '日本語'},\n",
       "  {'english_name': 'Mandarin', 'iso_639_1': 'zh', 'name': '普通话'}],\n",
       " 'status': 'Released',\n",
       " 'tagline': '',\n",
       " 'title': 'The Eight Hundred',\n",
       " 'video': False,\n",
       " 'vote_average': 7.3,\n",
       " 'vote_count': 55}"
      ]
     },
     "execution_count": 20,
     "metadata": {},
     "output_type": "execute_result"
    }
   ],
   "source": [
    "film_revenue"
   ]
  },
  {
   "cell_type": "code",
   "execution_count": null,
   "id": "maritime-trading",
   "metadata": {},
   "outputs": [],
   "source": []
  },
  {
   "cell_type": "markdown",
   "id": "perfect-newfoundland",
   "metadata": {},
   "source": [
    "### plotting of graph \n",
    "Remove empty column and create a new dataframe called gen to see how many of each genre exists"
   ]
  },
  {
   "cell_type": "code",
   "execution_count": 21,
   "id": "frequent-fitness",
   "metadata": {},
   "outputs": [
    {
     "data": {
      "text/plain": [
       "Text(0.5, 0, 'Number of movies')"
      ]
     },
     "execution_count": 21,
     "metadata": {},
     "output_type": "execute_result"
    },
    {
     "data": {
      "image/png": "[encoded data removed]",
      "text/plain": [
       "<Figure size 936x1080 with 1 Axes>"
      ]
     },
     "metadata": {
      "needs_background": "light"
     },
     "output_type": "display_data"
    }
   ],
   "source": [
    "Genre= pd.Series(df['genre'].str.cat(sep = '|').split(\"|\") )\n",
    "gen = Genre[Genre != '']   #remvoes empty genres\n",
    "gen.value_counts(ascending=True).plot(kind=\"barh\",figsize=(13,15), fontsize=12,color=\"#2E86C1\")\n",
    "\n",
    "\n",
    "plt.title(\"Number of movies released by Genre\", fontsize=18)\n",
    "plt.ylabel(\"Genre\", fontsize=16)\n",
    "plt.xlabel(\"Number of movies\", fontsize=16)"
   ]
  },
  {
   "cell_type": "markdown",
   "id": "fluid-capability",
   "metadata": {},
   "source": [
    "### Remove duplicate \n",
    "Creates new dataframe called df_r_g to plot avg rev against genres"
   ]
  },
  {
   "cell_type": "code",
   "execution_count": 22,
   "id": "initial-pottery",
   "metadata": {},
   "outputs": [],
   "source": [
    "df_r_g = gen.drop_duplicates() #df with only genres\n",
    "df_r_g = pd.DataFrame(data = df_r_g, columns = [\"Genres\"])"
   ]
  },
  {
   "cell_type": "code",
   "execution_count": 23,
   "id": "organic-bacteria",
   "metadata": {},
   "outputs": [
    {
     "data": {
      "text/html": [
       "<div>\n",
       "<style scoped>\n",
       "    .dataframe tbody tr th:only-of-type {\n",
       "        vertical-align: middle;\n",
       "    }\n",
       "\n",
       "    .dataframe tbody tr th {\n",
       "        vertical-align: top;\n",
       "    }\n",
       "\n",
       "    .dataframe thead th {\n",
       "        text-align: right;\n",
       "    }\n",
       "</style>\n",
       "<table border=\"1\" class=\"dataframe\">\n",
       "  <thead>\n",
       "    <tr style=\"text-align: right;\">\n",
       "      <th></th>\n",
       "      <th>Genres</th>\n",
       "    </tr>\n",
       "  </thead>\n",
       "  <tbody>\n",
       "    <tr>\n",
       "      <th>0</th>\n",
       "      <td>War</td>\n",
       "    </tr>\n",
       "    <tr>\n",
       "      <th>1</th>\n",
       "      <td>History</td>\n",
       "    </tr>\n",
       "    <tr>\n",
       "      <th>2</th>\n",
       "      <td>Drama</td>\n",
       "    </tr>\n",
       "    <tr>\n",
       "      <th>3</th>\n",
       "      <td>Action</td>\n",
       "    </tr>\n",
       "    <tr>\n",
       "      <th>4</th>\n",
       "      <td>Music</td>\n",
       "    </tr>\n",
       "    <tr>\n",
       "      <th>5</th>\n",
       "      <td>Thriller</td>\n",
       "    </tr>\n",
       "    <tr>\n",
       "      <th>6</th>\n",
       "      <td>Crime</td>\n",
       "    </tr>\n",
       "    <tr>\n",
       "      <th>7</th>\n",
       "      <td>Animation</td>\n",
       "    </tr>\n",
       "    <tr>\n",
       "      <th>8</th>\n",
       "      <td>Adventure</td>\n",
       "    </tr>\n",
       "    <tr>\n",
       "      <th>9</th>\n",
       "      <td>Fantasy</td>\n",
       "    </tr>\n",
       "    <tr>\n",
       "      <th>10</th>\n",
       "      <td>Science Fiction</td>\n",
       "    </tr>\n",
       "    <tr>\n",
       "      <th>11</th>\n",
       "      <td>Comedy</td>\n",
       "    </tr>\n",
       "    <tr>\n",
       "      <th>12</th>\n",
       "      <td>Family</td>\n",
       "    </tr>\n",
       "    <tr>\n",
       "      <th>13</th>\n",
       "      <td>Horror</td>\n",
       "    </tr>\n",
       "    <tr>\n",
       "      <th>14</th>\n",
       "      <td>Mystery</td>\n",
       "    </tr>\n",
       "  </tbody>\n",
       "</table>\n",
       "</div>"
      ],
      "text/plain": [
       "             Genres\n",
       "0               War\n",
       "1           History\n",
       "2             Drama\n",
       "3            Action\n",
       "4             Music\n",
       "5          Thriller\n",
       "6             Crime\n",
       "7         Animation\n",
       "8         Adventure\n",
       "9           Fantasy\n",
       "10  Science Fiction\n",
       "11           Comedy\n",
       "12           Family\n",
       "13           Horror\n",
       "14          Mystery"
      ]
     },
     "execution_count": 23,
     "metadata": {},
     "output_type": "execute_result"
    }
   ],
   "source": [
    "df_r_g.reset_index(drop = True,inplace = True)\n",
    "df_r_g"
   ]
  },
  {
   "cell_type": "markdown",
   "id": "architectural-northeast",
   "metadata": {},
   "source": [
    "There are 15 genres"
   ]
  },
  {
   "cell_type": "markdown",
   "id": "artificial-uruguay",
   "metadata": {},
   "source": [
    "### Getting average revenue of each genre"
   ]
  },
  {
   "cell_type": "markdown",
   "id": "manufactured-canvas",
   "metadata": {},
   "source": [
    "#### Test of sub string in string"
   ]
  },
  {
   "cell_type": "code",
   "execution_count": 24,
   "id": "therapeutic-mozambique",
   "metadata": {},
   "outputs": [
    {
     "name": "stdout",
     "output_type": "stream",
     "text": [
      "War\n",
      "A\n",
      "History\n",
      "A\n",
      "Drama\n",
      "A\n",
      "Action\n",
      "A\n",
      "Music\n",
      "Thriller\n",
      "Crime\n",
      "Animation\n",
      "Adventure\n",
      "Fantasy\n",
      "Science Fiction\n",
      "Comedy\n",
      "Family\n",
      "Horror\n",
      "Mystery\n",
      "|War|History|Drama|Action\n"
     ]
    }
   ],
   "source": [
    "Rev = {}\n",
    "for i in df_r_g.Genres :  #Rev list\n",
    "    Rev[i] = 0\n",
    "\n",
    "for i in Rev.keys():\n",
    "    print(i)\n",
    "    if i in df.genre[0]:\n",
    "        print(\"A\")\n",
    "    \n",
    "\n",
    "\n",
    "print(df.genre[0])\n"
   ]
  },
  {
   "cell_type": "markdown",
   "id": "indirect-pittsburgh",
   "metadata": {},
   "source": [
    "#### Total Revenue of each genre"
   ]
  },
  {
   "cell_type": "code",
   "execution_count": 25,
   "id": "neural-perception",
   "metadata": {},
   "outputs": [
    {
     "data": {
      "text/plain": [
       "{'War': 559919368,\n",
       " 'History': 460919368,\n",
       " 'Drama': 1036703994,\n",
       " 'Action': 2627547611,\n",
       " 'Music': 426900000,\n",
       " 'Thriller': 919868905,\n",
       " 'Crime': 628363705,\n",
       " 'Animation': 916504517,\n",
       " 'Adventure': 1294258060,\n",
       " 'Fantasy': 1390729524,\n",
       " 'Science Fiction': 869130131,\n",
       " 'Comedy': 583434919,\n",
       " 'Family': 936731552,\n",
       " 'Horror': 130234661,\n",
       " 'Mystery': 69000000}"
      ]
     },
     "execution_count": 25,
     "metadata": {},
     "output_type": "execute_result"
    }
   ],
   "source": [
    "for i in range(len(Rev)+1) :\n",
    "    for j in Rev.keys():\n",
    "        if j in df.genre[i] :     # if eg. war in war|history|etc\n",
    "            Rev[j] += df.revenue[i]   # add revenue\n",
    "            \n",
    "        \n",
    "Rev"
   ]
  },
  {
   "cell_type": "markdown",
   "id": "confirmed-democracy",
   "metadata": {},
   "source": [
    "#### Average Revenue"
   ]
  },
  {
   "cell_type": "code",
   "execution_count": 26,
   "id": "smooth-devil",
   "metadata": {},
   "outputs": [
    {
     "name": "stdout",
     "output_type": "stream",
     "text": [
      "Action             10\n",
      "Fantasy             9\n",
      "Family              7\n",
      "Adventure           7\n",
      "Drama               6\n",
      "Animation           5\n",
      "Comedy              5\n",
      "Science Fiction     4\n",
      "Thriller            3\n",
      "War                 2\n",
      "Crime               2\n",
      "Music               2\n",
      "Horror              1\n",
      "History             1\n",
      "Mystery             1\n",
      "dtype: int64\n"
     ]
    },
    {
     "data": {
      "text/plain": [
       "{'War': 279959684,\n",
       " 'History': 460919368,\n",
       " 'Drama': 172783999,\n",
       " 'Action': 262754761,\n",
       " 'Music': 213450000,\n",
       " 'Thriller': 306622968,\n",
       " 'Crime': 314181852,\n",
       " 'Animation': 183300903,\n",
       " 'Adventure': 184894008,\n",
       " 'Fantasy': 154525502,\n",
       " 'Science Fiction': 217282532,\n",
       " 'Comedy': 116686983,\n",
       " 'Family': 133818793,\n",
       " 'Horror': 130234661,\n",
       " 'Mystery': 69000000}"
      ]
     },
     "execution_count": 26,
     "metadata": {},
     "output_type": "execute_result"
    }
   ],
   "source": [
    "# divide Total Revenue of each genre by the number of movies\n",
    "print(gen.value_counts())\n",
    "\n",
    "\n",
    "for i in Rev.keys():\n",
    "    k = gen.value_counts()[i]\n",
    "    Rev[i] = int(Rev[i]/k)\n",
    "\n",
    "\n",
    "Rev"
   ]
  },
  {
   "cell_type": "markdown",
   "id": "positive-chicago",
   "metadata": {},
   "source": [
    "This show the average revenue per movie\n",
    "EG : 3 movies with 'War', Add revenue of these 3 movies then divide by 3\n"
   ]
  },
  {
   "cell_type": "code",
   "execution_count": 27,
   "id": "going-spectrum",
   "metadata": {},
   "outputs": [],
   "source": [
    "df_r_g['AvgRev'] = df_r_g['Genres'].map(Rev)\n",
    "df_r_g = df_r_g.sort_values(by='AvgRev',ascending = False)"
   ]
  },
  {
   "cell_type": "code",
   "execution_count": 28,
   "id": "supported-formula",
   "metadata": {},
   "outputs": [
    {
     "data": {
      "text/html": [
       "<div>\n",
       "<style scoped>\n",
       "    .dataframe tbody tr th:only-of-type {\n",
       "        vertical-align: middle;\n",
       "    }\n",
       "\n",
       "    .dataframe tbody tr th {\n",
       "        vertical-align: top;\n",
       "    }\n",
       "\n",
       "    .dataframe thead th {\n",
       "        text-align: right;\n",
       "    }\n",
       "</style>\n",
       "<table border=\"1\" class=\"dataframe\">\n",
       "  <thead>\n",
       "    <tr style=\"text-align: right;\">\n",
       "      <th></th>\n",
       "      <th>Genres</th>\n",
       "      <th>AvgRev</th>\n",
       "    </tr>\n",
       "  </thead>\n",
       "  <tbody>\n",
       "    <tr>\n",
       "      <th>1</th>\n",
       "      <td>History</td>\n",
       "      <td>460919368</td>\n",
       "    </tr>\n",
       "    <tr>\n",
       "      <th>6</th>\n",
       "      <td>Crime</td>\n",
       "      <td>314181852</td>\n",
       "    </tr>\n",
       "    <tr>\n",
       "      <th>5</th>\n",
       "      <td>Thriller</td>\n",
       "      <td>306622968</td>\n",
       "    </tr>\n",
       "    <tr>\n",
       "      <th>0</th>\n",
       "      <td>War</td>\n",
       "      <td>279959684</td>\n",
       "    </tr>\n",
       "    <tr>\n",
       "      <th>3</th>\n",
       "      <td>Action</td>\n",
       "      <td>262754761</td>\n",
       "    </tr>\n",
       "    <tr>\n",
       "      <th>10</th>\n",
       "      <td>Science Fiction</td>\n",
       "      <td>217282532</td>\n",
       "    </tr>\n",
       "    <tr>\n",
       "      <th>4</th>\n",
       "      <td>Music</td>\n",
       "      <td>213450000</td>\n",
       "    </tr>\n",
       "    <tr>\n",
       "      <th>8</th>\n",
       "      <td>Adventure</td>\n",
       "      <td>184894008</td>\n",
       "    </tr>\n",
       "    <tr>\n",
       "      <th>7</th>\n",
       "      <td>Animation</td>\n",
       "      <td>183300903</td>\n",
       "    </tr>\n",
       "    <tr>\n",
       "      <th>2</th>\n",
       "      <td>Drama</td>\n",
       "      <td>172783999</td>\n",
       "    </tr>\n",
       "    <tr>\n",
       "      <th>9</th>\n",
       "      <td>Fantasy</td>\n",
       "      <td>154525502</td>\n",
       "    </tr>\n",
       "    <tr>\n",
       "      <th>12</th>\n",
       "      <td>Family</td>\n",
       "      <td>133818793</td>\n",
       "    </tr>\n",
       "    <tr>\n",
       "      <th>13</th>\n",
       "      <td>Horror</td>\n",
       "      <td>130234661</td>\n",
       "    </tr>\n",
       "    <tr>\n",
       "      <th>11</th>\n",
       "      <td>Comedy</td>\n",
       "      <td>116686983</td>\n",
       "    </tr>\n",
       "    <tr>\n",
       "      <th>14</th>\n",
       "      <td>Mystery</td>\n",
       "      <td>69000000</td>\n",
       "    </tr>\n",
       "  </tbody>\n",
       "</table>\n",
       "</div>"
      ],
      "text/plain": [
       "             Genres     AvgRev\n",
       "1           History  460919368\n",
       "6             Crime  314181852\n",
       "5          Thriller  306622968\n",
       "0               War  279959684\n",
       "3            Action  262754761\n",
       "10  Science Fiction  217282532\n",
       "4             Music  213450000\n",
       "8         Adventure  184894008\n",
       "7         Animation  183300903\n",
       "2             Drama  172783999\n",
       "9           Fantasy  154525502\n",
       "12           Family  133818793\n",
       "13           Horror  130234661\n",
       "11           Comedy  116686983\n",
       "14          Mystery   69000000"
      ]
     },
     "execution_count": 28,
     "metadata": {},
     "output_type": "execute_result"
    }
   ],
   "source": [
    "df_r_g"
   ]
  },
  {
   "cell_type": "markdown",
   "id": "inappropriate-firewall",
   "metadata": {},
   "source": [
    "### Adding number of movies for each genre to df_r_g"
   ]
  },
  {
   "cell_type": "code",
   "execution_count": 29,
   "id": "foster-assurance",
   "metadata": {},
   "outputs": [],
   "source": [
    "no_movies = []\n",
    "for i in df_r_g['Genres'] :\n",
    "    no_movies.append(gen.value_counts()[i])"
   ]
  },
  {
   "cell_type": "code",
   "execution_count": 30,
   "id": "provincial-trunk",
   "metadata": {},
   "outputs": [
    {
     "data": {
      "text/html": [
       "<div>\n",
       "<style scoped>\n",
       "    .dataframe tbody tr th:only-of-type {\n",
       "        vertical-align: middle;\n",
       "    }\n",
       "\n",
       "    .dataframe tbody tr th {\n",
       "        vertical-align: top;\n",
       "    }\n",
       "\n",
       "    .dataframe thead th {\n",
       "        text-align: right;\n",
       "    }\n",
       "</style>\n",
       "<table border=\"1\" class=\"dataframe\">\n",
       "  <thead>\n",
       "    <tr style=\"text-align: right;\">\n",
       "      <th></th>\n",
       "      <th>Genres</th>\n",
       "      <th>AvgRev</th>\n",
       "      <th>no_movies</th>\n",
       "    </tr>\n",
       "  </thead>\n",
       "  <tbody>\n",
       "    <tr>\n",
       "      <th>1</th>\n",
       "      <td>History</td>\n",
       "      <td>460919368</td>\n",
       "      <td>1</td>\n",
       "    </tr>\n",
       "    <tr>\n",
       "      <th>6</th>\n",
       "      <td>Crime</td>\n",
       "      <td>314181852</td>\n",
       "      <td>2</td>\n",
       "    </tr>\n",
       "    <tr>\n",
       "      <th>5</th>\n",
       "      <td>Thriller</td>\n",
       "      <td>306622968</td>\n",
       "      <td>3</td>\n",
       "    </tr>\n",
       "    <tr>\n",
       "      <th>0</th>\n",
       "      <td>War</td>\n",
       "      <td>279959684</td>\n",
       "      <td>2</td>\n",
       "    </tr>\n",
       "    <tr>\n",
       "      <th>3</th>\n",
       "      <td>Action</td>\n",
       "      <td>262754761</td>\n",
       "      <td>10</td>\n",
       "    </tr>\n",
       "    <tr>\n",
       "      <th>10</th>\n",
       "      <td>Science Fiction</td>\n",
       "      <td>217282532</td>\n",
       "      <td>4</td>\n",
       "    </tr>\n",
       "    <tr>\n",
       "      <th>4</th>\n",
       "      <td>Music</td>\n",
       "      <td>213450000</td>\n",
       "      <td>2</td>\n",
       "    </tr>\n",
       "    <tr>\n",
       "      <th>8</th>\n",
       "      <td>Adventure</td>\n",
       "      <td>184894008</td>\n",
       "      <td>7</td>\n",
       "    </tr>\n",
       "    <tr>\n",
       "      <th>7</th>\n",
       "      <td>Animation</td>\n",
       "      <td>183300903</td>\n",
       "      <td>5</td>\n",
       "    </tr>\n",
       "    <tr>\n",
       "      <th>2</th>\n",
       "      <td>Drama</td>\n",
       "      <td>172783999</td>\n",
       "      <td>6</td>\n",
       "    </tr>\n",
       "    <tr>\n",
       "      <th>9</th>\n",
       "      <td>Fantasy</td>\n",
       "      <td>154525502</td>\n",
       "      <td>9</td>\n",
       "    </tr>\n",
       "    <tr>\n",
       "      <th>12</th>\n",
       "      <td>Family</td>\n",
       "      <td>133818793</td>\n",
       "      <td>7</td>\n",
       "    </tr>\n",
       "    <tr>\n",
       "      <th>13</th>\n",
       "      <td>Horror</td>\n",
       "      <td>130234661</td>\n",
       "      <td>1</td>\n",
       "    </tr>\n",
       "    <tr>\n",
       "      <th>11</th>\n",
       "      <td>Comedy</td>\n",
       "      <td>116686983</td>\n",
       "      <td>5</td>\n",
       "    </tr>\n",
       "    <tr>\n",
       "      <th>14</th>\n",
       "      <td>Mystery</td>\n",
       "      <td>69000000</td>\n",
       "      <td>1</td>\n",
       "    </tr>\n",
       "  </tbody>\n",
       "</table>\n",
       "</div>"
      ],
      "text/plain": [
       "             Genres     AvgRev  no_movies\n",
       "1           History  460919368          1\n",
       "6             Crime  314181852          2\n",
       "5          Thriller  306622968          3\n",
       "0               War  279959684          2\n",
       "3            Action  262754761         10\n",
       "10  Science Fiction  217282532          4\n",
       "4             Music  213450000          2\n",
       "8         Adventure  184894008          7\n",
       "7         Animation  183300903          5\n",
       "2             Drama  172783999          6\n",
       "9           Fantasy  154525502          9\n",
       "12           Family  133818793          7\n",
       "13           Horror  130234661          1\n",
       "11           Comedy  116686983          5\n",
       "14          Mystery   69000000          1"
      ]
     },
     "execution_count": 30,
     "metadata": {},
     "output_type": "execute_result"
    }
   ],
   "source": [
    "df_r_g['no_movies'] = no_movies\n",
    "df_r_g"
   ]
  },
  {
   "cell_type": "code",
   "execution_count": 31,
   "id": "lesbian-lunch",
   "metadata": {},
   "outputs": [
    {
     "data": {
      "text/plain": [
       "Text(0, 0.5, 'Genres')"
      ]
     },
     "execution_count": 31,
     "metadata": {},
     "output_type": "execute_result"
    },
    {
     "data": {
      "image/png": "[encoded data removed]",
      "text/plain": [
       "<Figure size 1296x1440 with 1 Axes>"
      ]
     },
     "metadata": {
      "needs_background": "light"
     },
     "output_type": "display_data"
    }
   ],
   "source": [
    "# Draw the Boxplots of all variables\n",
    "f = plt.figure(figsize=(18, 20))\n",
    "sb.barplot(x = \"AvgRev\", y = \"Genres\", data = df_r_g, color=\"#2E86C1\")\n",
    "plt.title(\"Average Revenue against Genre\", fontsize=18)\n",
    "plt.xlabel(\"Revenue(*10^8)\", fontsize=16)\n",
    "plt.ylabel(\"Genres\", fontsize=16)"
   ]
  },
  {
   "cell_type": "code",
   "execution_count": 32,
   "id": "checked-aggregate",
   "metadata": {},
   "outputs": [
    {
     "data": {
      "text/plain": [
       "Text(0, 0.5, 'Genres')"
      ]
     },
     "execution_count": 32,
     "metadata": {},
     "output_type": "execute_result"
    },
    {
     "data": {
      "image/png": "[encoded data removed]",
      "text/plain": [
       "<Figure size 1296x1440 with 1 Axes>"
      ]
     },
     "metadata": {
      "needs_background": "light"
     },
     "output_type": "display_data"
    }
   ],
   "source": [
    "# Draw the Boxplots of all variables\n",
    "f = plt.figure(figsize=(18, 20))\n",
    "sb.barplot(x = \"no_movies\", y = \"Genres\", data = df_r_g, color=\"#2E86C1\")\n",
    "plt.title(\"No of Movies against Genre\", fontsize=18)\n",
    "plt.xlabel(\"No_of_movies\", fontsize=16)\n",
    "plt.ylabel(\"Genres\", fontsize=16)"
   ]
  },
  {
   "cell_type": "markdown",
   "id": "complex-amino",
   "metadata": {},
   "source": [
    "From the 2 plots above, films that include the action genre tend to get more revenue than the others. As the top 4 genres of History to War does not have many movies, it is not an accurate depiction of what it would be if other films adopted those genres. However, films of action genres are relatively many and their average revenue is still pretty high hence action would be the best genre to add in films"
   ]
  },
  {
   "cell_type": "code",
   "execution_count": null,
   "id": "laden-vector",
   "metadata": {},
   "outputs": [],
   "source": []
  },
  {
   "cell_type": "code",
   "execution_count": 33,
   "id": "agreed-large",
   "metadata": {},
   "outputs": [
    {
     "data": {
      "text/plain": [
       "Text(0, 0.5, 'Movies')"
      ]
     },
     "execution_count": 33,
     "metadata": {},
     "output_type": "execute_result"
    },
    {
     "data": {
      "image/png": "[encoded data removed]",
      "text/plain": [
       "<Figure size 936x720 with 1 Axes>"
      ]
     },
     "metadata": {
      "needs_background": "light"
     },
     "output_type": "display_data"
    }
   ],
   "source": [
    "# Draw the Boxplots of all variables\n",
    "f,ax = plt.subplots(figsize=(13, 10))\n",
    "sb.barplot(y = \"film\", x = \"no_of_genres\", data = df, color=\"#2E86C1\")\n",
    "\n",
    "avg_no_gen = int(df['no_of_genres'].mean())\n",
    "\n",
    "ax.axvline(x=avg_no_gen, color='b', label='Average', linestyle='--', linewidth=1)\n",
    "\n",
    "plt.title(\"How many genres per film\", fontsize=18)\n",
    "plt.xlabel(\"Genres\", fontsize=16)\n",
    "plt.ylabel(\"Movies\", fontsize=16)"
   ]
  },
  {
   "cell_type": "markdown",
   "id": "czech-happiness",
   "metadata": {},
   "source": [
    "So the average number of genres per film would be around 3. From the bar plot above, apart from Metallica Tour, in general, most films with at least 3 genres tend to fair better than those with 2 or less genres."
   ]
  },
  {
   "cell_type": "code",
   "execution_count": null,
   "id": "bigger-niagara",
   "metadata": {},
   "outputs": [],
   "source": []
  },
  {
   "cell_type": "markdown",
   "id": "incredible-bottom",
   "metadata": {},
   "source": [
    "### Analysis of no of genre and revenue"
   ]
  },
  {
   "cell_type": "code",
   "execution_count": 70,
   "id": "polished-greeting",
   "metadata": {},
   "outputs": [
    {
     "data": {
      "text/plain": [
       "<seaborn.axisgrid.JointGrid at 0x237d53c6370>"
      ]
     },
     "execution_count": 70,
     "metadata": {},
     "output_type": "execute_result"
    },
    {
     "data": {
      "image/png": "[encoded data removed]",
      "text/plain": [
       "<Figure size 432x432 with 3 Axes>"
      ]
     },
     "metadata": {
      "needs_background": "light"
     },
     "output_type": "display_data"
    }
   ],
   "source": [
    "sb.jointplot(data = df, x = \"no_of_genres\", y = \"revenue\", height = 6)"
   ]
  },
  {
   "cell_type": "code",
   "execution_count": 35,
   "id": "chicken-amber",
   "metadata": {},
   "outputs": [],
   "source": [
    "# Import LinearRegression model from Scikit-Learn\n",
    "from sklearn.linear_model import LinearRegression\n",
    "\n",
    "# Create a Linear Regression object\n",
    "linreg = LinearRegression()"
   ]
  },
  {
   "cell_type": "code",
   "execution_count": 36,
   "id": "treated-injury",
   "metadata": {},
   "outputs": [],
   "source": [
    "# Extract Response and Predictors\n",
    "y = pd.DataFrame(df['revenue'])\n",
    "x = pd.DataFrame(df['no_of_genres'])"
   ]
  },
  {
   "cell_type": "code",
   "execution_count": 37,
   "id": "appropriate-block",
   "metadata": {},
   "outputs": [
    {
     "data": {
      "text/plain": [
       "LinearRegression()"
      ]
     },
     "execution_count": 37,
     "metadata": {},
     "output_type": "execute_result"
    }
   ],
   "source": [
    "linreg.fit(x, y)"
   ]
  },
  {
   "cell_type": "code",
   "execution_count": 38,
   "id": "collective-maldives",
   "metadata": {},
   "outputs": [
    {
     "name": "stdout",
     "output_type": "stream",
     "text": [
      "Intercept \t: b =  [1.98059666e+08]\n",
      "Coefficients \t: a =  [[2566776.37086093]]\n"
     ]
    }
   ],
   "source": [
    "print('Intercept \\t: b = ', linreg.intercept_)\n",
    "print('Coefficients \\t: a = ', linreg.coef_)"
   ]
  },
  {
   "cell_type": "code",
   "execution_count": 39,
   "id": "surgical-conclusion",
   "metadata": {},
   "outputs": [
    {
     "data": {
      "image/png": "[encoded data removed]",
      "text/plain": [
       "<Figure size 1152x576 with 1 Axes>"
      ]
     },
     "metadata": {
      "needs_background": "light"
     },
     "output_type": "display_data"
    }
   ],
   "source": [
    "# Formula for the Regression line\n",
    "regline_x = x\n",
    "regline_y = linreg.intercept_ + linreg.coef_ * x\n",
    "\n",
    "# Plot the Linear Regression line\n",
    "f, axes = plt.subplots(1, 1, figsize=(16, 8))\n",
    "plt.scatter(x, y)\n",
    "plt.plot(regline_x, regline_y, 'r-', linewidth = 3)\n",
    "plt.show()"
   ]
  },
  {
   "cell_type": "markdown",
   "id": "devoted-fraud",
   "metadata": {},
   "source": [
    "From the these plots, it goes to show that more genres doesnt mean higher revenue, and the optimal number of genres per film should be around 2 to 3"
   ]
  },
  {
   "cell_type": "code",
   "execution_count": null,
   "id": "independent-cowboy",
   "metadata": {},
   "outputs": [],
   "source": []
  },
  {
   "cell_type": "markdown",
   "id": "southern-dallas",
   "metadata": {},
   "source": [
    "## 5) Analysis of Action Movies\n",
    "As stated previously, action films are the best genres as they have proven to earn the highest revenue on average"
   ]
  },
  {
   "cell_type": "code",
   "execution_count": 125,
   "id": "latter-statistics",
   "metadata": {},
   "outputs": [
    {
     "data": {
      "text/html": [
       "<div>\n",
       "<style scoped>\n",
       "    .dataframe tbody tr th:only-of-type {\n",
       "        vertical-align: middle;\n",
       "    }\n",
       "\n",
       "    .dataframe tbody tr th {\n",
       "        vertical-align: top;\n",
       "    }\n",
       "\n",
       "    .dataframe thead th {\n",
       "        text-align: right;\n",
       "    }\n",
       "</style>\n",
       "<table border=\"1\" class=\"dataframe\">\n",
       "  <thead>\n",
       "    <tr style=\"text-align: right;\">\n",
       "      <th></th>\n",
       "      <th>revenue</th>\n",
       "    </tr>\n",
       "  </thead>\n",
       "  <tbody>\n",
       "    <tr>\n",
       "      <th>0</th>\n",
       "      <td>460919368</td>\n",
       "    </tr>\n",
       "    <tr>\n",
       "      <th>1</th>\n",
       "      <td>426505244</td>\n",
       "    </tr>\n",
       "    <tr>\n",
       "      <th>2</th>\n",
       "      <td>399180000</td>\n",
       "    </tr>\n",
       "    <tr>\n",
       "      <th>3</th>\n",
       "      <td>363129000</td>\n",
       "    </tr>\n",
       "    <tr>\n",
       "      <th>4</th>\n",
       "      <td>306766470</td>\n",
       "    </tr>\n",
       "    <tr>\n",
       "      <th>5</th>\n",
       "      <td>240656068</td>\n",
       "    </tr>\n",
       "    <tr>\n",
       "      <th>6</th>\n",
       "      <td>201858461</td>\n",
       "    </tr>\n",
       "    <tr>\n",
       "      <th>7</th>\n",
       "      <td>159533000</td>\n",
       "    </tr>\n",
       "    <tr>\n",
       "      <th>8</th>\n",
       "      <td>69000000</td>\n",
       "    </tr>\n",
       "    <tr>\n",
       "      <th>9</th>\n",
       "      <td>47800000</td>\n",
       "    </tr>\n",
       "  </tbody>\n",
       "</table>\n",
       "</div>"
      ],
      "text/plain": [
       "     revenue\n",
       "0  460919368\n",
       "1  426505244\n",
       "2  399180000\n",
       "3  363129000\n",
       "4  306766470\n",
       "5  240656068\n",
       "6  201858461\n",
       "7  159533000\n",
       "8   69000000\n",
       "9   47800000"
      ]
     },
     "execution_count": 125,
     "metadata": {},
     "output_type": "execute_result"
    }
   ],
   "source": [
    "# create dataframe with film and revenue columns\n",
    "\n",
    "act_df = pd.DataFrame(columns = ['revenue'])\n",
    "for i in df['genre']:\n",
    "    if 'Action' in i:\n",
    "        #print(df[df['genre']==i]['revenue'].item())\n",
    "        act_df.loc[len(act_df)]=[df[df['genre']==i]['revenue'].astype(int).item()] # store title and revenue in our dataframe\n",
    "\n",
    "act_df"
   ]
  },
  {
   "cell_type": "markdown",
   "id": "fixed-quarter",
   "metadata": {},
   "source": [
    "### These are the revenue figures for films that include action"
   ]
  },
  {
   "cell_type": "code",
   "execution_count": 69,
   "id": "emerging-piece",
   "metadata": {},
   "outputs": [
    {
     "data": {
      "text/plain": [
       "<AxesSubplot:>"
      ]
     },
     "execution_count": 69,
     "metadata": {},
     "output_type": "execute_result"
    },
    {
     "data": {
      "image/png": "[encoded data removed]",
      "text/plain": [
       "<Figure size 1728x576 with 1 Axes>"
      ]
     },
     "metadata": {
      "needs_background": "light"
     },
     "output_type": "display_data"
    }
   ],
   "source": [
    "f = plt.figure(figsize=(24, 8))\n",
    "sb.boxplot(data = act_df, orient = \"h\")\n"
   ]
  },
  {
   "cell_type": "code",
   "execution_count": 60,
   "id": "coated-denmark",
   "metadata": {},
   "outputs": [
    {
     "data": {
      "text/plain": [
       "<AxesSubplot:>"
      ]
     },
     "execution_count": 60,
     "metadata": {},
     "output_type": "execute_result"
    },
    {
     "data": {
      "image/png": "[encoded data removed]",
      "text/plain": [
       "<Figure size 1728x864 with 1 Axes>"
      ]
     },
     "metadata": {
      "needs_background": "light"
     },
     "output_type": "display_data"
    }
   ],
   "source": [
    "f = plt.figure(figsize=(24, 12))\n",
    "sb.violinplot(data = act_df)"
   ]
  },
  {
   "cell_type": "markdown",
   "id": "blocked-recovery",
   "metadata": {},
   "source": [
    "As can be seen from the 2 plots, the distribution of action movies give rise to on average between 170mil to about 400mil of revenue"
   ]
  },
  {
   "cell_type": "code",
   "execution_count": null,
   "id": "suffering-couple",
   "metadata": {},
   "outputs": [],
   "source": []
  },
  {
   "cell_type": "markdown",
   "id": "swedish-desktop",
   "metadata": {},
   "source": [
    "## 6) Director against revenue\n",
    "https://www.themoviedb.org/talk/53ba24bac3a3685eba0067ea guide on how to retrieve director info"
   ]
  },
  {
   "cell_type": "code",
   "execution_count": 85,
   "id": "successful-punishment",
   "metadata": {},
   "outputs": [],
   "source": [
    "Directors = {}"
   ]
  },
  {
   "cell_type": "code",
   "execution_count": 88,
   "id": "checked-tucson",
   "metadata": {},
   "outputs": [],
   "source": [
    "for i in range(len(titles)) :\n",
    "    credits = requests.get('https://api.themoviedb.org/3/movie/'+ str(titles[i]['id']) +'/credits?api_key='+ api_token+'&language=en-US')\n",
    "    credits = credits.json()\n",
    "    for j in credits['crew']:\n",
    "        if j['job'] == 'Director':\n",
    "            Directors[df['film'][i]] = j['name']\n",
    "     "
   ]
  },
  {
   "cell_type": "code",
   "execution_count": 89,
   "id": "funky-logging",
   "metadata": {},
   "outputs": [
    {
     "name": "stdout",
     "output_type": "stream",
     "text": [
      "{'babai': 'Guan Hu', 'Metallica  WorldWired Tour   Live in Manchester  England   June 18  2019': 'Dan Braun', 'Bad Boys for Life': 'Bilall Fallah', 'juchangban guimie ren wuxianliechebian': 'Haruo Sotozaki', 'Tenet': 'Christopher Nolan', 'Sonic the Hedgehog': 'Jeff Fowler', 'Dolittle': 'Stephen Gaghan', 'jiangziya': 'Li Wei', 'Birds of Prey  and the Fantabulous Emancipation of One Harley Quinn ': 'Cathy Yan', 'Wonder Woman 1984': 'Patty Jenkins', 'Onward': 'Dan Scanlon', 'The Croods  A New Age': 'Joel Crawford', 'The Invisible Man': 'Leigh Whannell', 'The Call of the Wild': 'Chris Sanders', 'Manbaby Cries Because He Isn t Added to Discord Chat  Gone Wrong ': 'Nikolas Kneupper', 'qingyaji': 'Guo Jingming', 'Soul': 'Kemp Powers', 'Mulan': 'Niki Caro', 'Tolo Tolo': 'Checco Zalone', 'Greenland': 'Ric Roman Waugh'}\n"
     ]
    }
   ],
   "source": [
    "print(Directors)"
   ]
  },
  {
   "cell_type": "code",
   "execution_count": 91,
   "id": "dutch-bathroom",
   "metadata": {},
   "outputs": [
    {
     "data": {
      "text/html": [
       "<div>\n",
       "<style scoped>\n",
       "    .dataframe tbody tr th:only-of-type {\n",
       "        vertical-align: middle;\n",
       "    }\n",
       "\n",
       "    .dataframe tbody tr th {\n",
       "        vertical-align: top;\n",
       "    }\n",
       "\n",
       "    .dataframe thead th {\n",
       "        text-align: right;\n",
       "    }\n",
       "</style>\n",
       "<table border=\"1\" class=\"dataframe\">\n",
       "  <thead>\n",
       "    <tr style=\"text-align: right;\">\n",
       "      <th></th>\n",
       "      <th>film</th>\n",
       "      <th>revenue</th>\n",
       "      <th>genre</th>\n",
       "      <th>no_of_genres</th>\n",
       "      <th>Directors</th>\n",
       "    </tr>\n",
       "  </thead>\n",
       "  <tbody>\n",
       "    <tr>\n",
       "      <th>0</th>\n",
       "      <td>babai</td>\n",
       "      <td>460919368</td>\n",
       "      <td>|War|History|Drama|Action</td>\n",
       "      <td>4</td>\n",
       "      <td>Guan Hu</td>\n",
       "    </tr>\n",
       "    <tr>\n",
       "      <th>1</th>\n",
       "      <td>Metallica  WorldWired Tour   Live in Mancheste...</td>\n",
       "      <td>426900000</td>\n",
       "      <td>|Music</td>\n",
       "      <td>1</td>\n",
       "      <td>Dan Braun</td>\n",
       "    </tr>\n",
       "    <tr>\n",
       "      <th>2</th>\n",
       "      <td>Bad Boys for Life</td>\n",
       "      <td>426505244</td>\n",
       "      <td>|Thriller|Action|Crime</td>\n",
       "      <td>3</td>\n",
       "      <td>Bilall Fallah</td>\n",
       "    </tr>\n",
       "    <tr>\n",
       "      <th>3</th>\n",
       "      <td>juchangban guimie ren wuxianliechebian</td>\n",
       "      <td>399180000</td>\n",
       "      <td>|Animation|Action|Adventure|Fantasy|Drama</td>\n",
       "      <td>5</td>\n",
       "      <td>Haruo Sotozaki</td>\n",
       "    </tr>\n",
       "    <tr>\n",
       "      <th>4</th>\n",
       "      <td>Tenet</td>\n",
       "      <td>363129000</td>\n",
       "      <td>|Action|Thriller|Science Fiction</td>\n",
       "      <td>3</td>\n",
       "      <td>Christopher Nolan</td>\n",
       "    </tr>\n",
       "    <tr>\n",
       "      <th>5</th>\n",
       "      <td>Sonic the Hedgehog</td>\n",
       "      <td>306766470</td>\n",
       "      <td>|Action|Science Fiction|Comedy|Family</td>\n",
       "      <td>4</td>\n",
       "      <td>Jeff Fowler</td>\n",
       "    </tr>\n",
       "    <tr>\n",
       "      <th>6</th>\n",
       "      <td>Dolittle</td>\n",
       "      <td>245692007</td>\n",
       "      <td>|Family|Fantasy|Adventure</td>\n",
       "      <td>3</td>\n",
       "      <td>Stephen Gaghan</td>\n",
       "    </tr>\n",
       "    <tr>\n",
       "      <th>7</th>\n",
       "      <td>jiangziya</td>\n",
       "      <td>240656068</td>\n",
       "      <td>|Animation|Action|Fantasy|Adventure</td>\n",
       "      <td>4</td>\n",
       "      <td>Li Wei</td>\n",
       "    </tr>\n",
       "    <tr>\n",
       "      <th>8</th>\n",
       "      <td>Birds of Prey  and the Fantabulous Emancipatio...</td>\n",
       "      <td>201858461</td>\n",
       "      <td>|Action|Crime</td>\n",
       "      <td>2</td>\n",
       "      <td>Cathy Yan</td>\n",
       "    </tr>\n",
       "    <tr>\n",
       "      <th>9</th>\n",
       "      <td>Wonder Woman 1984</td>\n",
       "      <td>159533000</td>\n",
       "      <td>|Fantasy|Action|Adventure</td>\n",
       "      <td>3</td>\n",
       "      <td>Patty Jenkins</td>\n",
       "    </tr>\n",
       "    <tr>\n",
       "      <th>10</th>\n",
       "      <td>Onward</td>\n",
       "      <td>141592359</td>\n",
       "      <td>|Animation|Family|Adventure|Comedy|Fantasy</td>\n",
       "      <td>5</td>\n",
       "      <td>Dan Scanlon</td>\n",
       "    </tr>\n",
       "    <tr>\n",
       "      <th>11</th>\n",
       "      <td>The Croods  A New Age</td>\n",
       "      <td>135076090</td>\n",
       "      <td>|Family|Fantasy|Animation|Comedy</td>\n",
       "      <td>4</td>\n",
       "      <td>Joel Crawford</td>\n",
       "    </tr>\n",
       "    <tr>\n",
       "      <th>12</th>\n",
       "      <td>The Invisible Man</td>\n",
       "      <td>130234661</td>\n",
       "      <td>|Thriller|Science Fiction|Horror</td>\n",
       "      <td>3</td>\n",
       "      <td>Leigh Whannell</td>\n",
       "    </tr>\n",
       "    <tr>\n",
       "      <th>13</th>\n",
       "      <td>The Call of the Wild</td>\n",
       "      <td>107604626</td>\n",
       "      <td>|Drama|Adventure|Family</td>\n",
       "      <td>3</td>\n",
       "      <td>Chris Sanders</td>\n",
       "    </tr>\n",
       "    <tr>\n",
       "      <th>14</th>\n",
       "      <td>Manbaby Cries Because He Isn t Added to Discor...</td>\n",
       "      <td>99000000</td>\n",
       "      <td>|War</td>\n",
       "      <td>1</td>\n",
       "      <td>Nikolas Kneupper</td>\n",
       "    </tr>\n",
       "    <tr>\n",
       "      <th>15</th>\n",
       "      <td>qingyaji</td>\n",
       "      <td>69000000</td>\n",
       "      <td>|Action|Drama|Fantasy|Mystery|Science Fiction</td>\n",
       "      <td>5</td>\n",
       "      <td>Guo Jingming</td>\n",
       "    </tr>\n",
       "    <tr>\n",
       "      <th>16</th>\n",
       "      <td>Soul</td>\n",
       "      <td>57400000</td>\n",
       "      <td>|Family|Animation|Comedy|Drama|Music|Fantasy</td>\n",
       "      <td>6</td>\n",
       "      <td>Kemp Powers</td>\n",
       "    </tr>\n",
       "    <tr>\n",
       "      <th>17</th>\n",
       "      <td>Mulan</td>\n",
       "      <td>57000000</td>\n",
       "      <td>|Adventure|Fantasy</td>\n",
       "      <td>2</td>\n",
       "      <td>Niki Caro</td>\n",
       "    </tr>\n",
       "    <tr>\n",
       "      <th>18</th>\n",
       "      <td>Tolo Tolo</td>\n",
       "      <td>52186426</td>\n",
       "      <td>|Comedy|Drama|Family</td>\n",
       "      <td>3</td>\n",
       "      <td>Checco Zalone</td>\n",
       "    </tr>\n",
       "    <tr>\n",
       "      <th>19</th>\n",
       "      <td>Greenland</td>\n",
       "      <td>47800000</td>\n",
       "      <td>|Action</td>\n",
       "      <td>1</td>\n",
       "      <td>Ric Roman Waugh</td>\n",
       "    </tr>\n",
       "  </tbody>\n",
       "</table>\n",
       "</div>"
      ],
      "text/plain": [
       "                                                 film    revenue  \\\n",
       "0                                               babai  460919368   \n",
       "1   Metallica  WorldWired Tour   Live in Mancheste...  426900000   \n",
       "2                                   Bad Boys for Life  426505244   \n",
       "3              juchangban guimie ren wuxianliechebian  399180000   \n",
       "4                                               Tenet  363129000   \n",
       "5                                  Sonic the Hedgehog  306766470   \n",
       "6                                            Dolittle  245692007   \n",
       "7                                           jiangziya  240656068   \n",
       "8   Birds of Prey  and the Fantabulous Emancipatio...  201858461   \n",
       "9                                   Wonder Woman 1984  159533000   \n",
       "10                                             Onward  141592359   \n",
       "11                              The Croods  A New Age  135076090   \n",
       "12                                  The Invisible Man  130234661   \n",
       "13                               The Call of the Wild  107604626   \n",
       "14  Manbaby Cries Because He Isn t Added to Discor...   99000000   \n",
       "15                                           qingyaji   69000000   \n",
       "16                                               Soul   57400000   \n",
       "17                                              Mulan   57000000   \n",
       "18                                          Tolo Tolo   52186426   \n",
       "19                                          Greenland   47800000   \n",
       "\n",
       "                                            genre no_of_genres  \\\n",
       "0                       |War|History|Drama|Action            4   \n",
       "1                                          |Music            1   \n",
       "2                          |Thriller|Action|Crime            3   \n",
       "3       |Animation|Action|Adventure|Fantasy|Drama            5   \n",
       "4                |Action|Thriller|Science Fiction            3   \n",
       "5           |Action|Science Fiction|Comedy|Family            4   \n",
       "6                       |Family|Fantasy|Adventure            3   \n",
       "7             |Animation|Action|Fantasy|Adventure            4   \n",
       "8                                   |Action|Crime            2   \n",
       "9                       |Fantasy|Action|Adventure            3   \n",
       "10     |Animation|Family|Adventure|Comedy|Fantasy            5   \n",
       "11               |Family|Fantasy|Animation|Comedy            4   \n",
       "12               |Thriller|Science Fiction|Horror            3   \n",
       "13                        |Drama|Adventure|Family            3   \n",
       "14                                           |War            1   \n",
       "15  |Action|Drama|Fantasy|Mystery|Science Fiction            5   \n",
       "16   |Family|Animation|Comedy|Drama|Music|Fantasy            6   \n",
       "17                             |Adventure|Fantasy            2   \n",
       "18                           |Comedy|Drama|Family            3   \n",
       "19                                        |Action            1   \n",
       "\n",
       "            Directors  \n",
       "0             Guan Hu  \n",
       "1           Dan Braun  \n",
       "2       Bilall Fallah  \n",
       "3      Haruo Sotozaki  \n",
       "4   Christopher Nolan  \n",
       "5         Jeff Fowler  \n",
       "6      Stephen Gaghan  \n",
       "7              Li Wei  \n",
       "8           Cathy Yan  \n",
       "9       Patty Jenkins  \n",
       "10        Dan Scanlon  \n",
       "11      Joel Crawford  \n",
       "12     Leigh Whannell  \n",
       "13      Chris Sanders  \n",
       "14   Nikolas Kneupper  \n",
       "15       Guo Jingming  \n",
       "16        Kemp Powers  \n",
       "17          Niki Caro  \n",
       "18      Checco Zalone  \n",
       "19    Ric Roman Waugh  "
      ]
     },
     "execution_count": 91,
     "metadata": {},
     "output_type": "execute_result"
    }
   ],
   "source": [
    "df['Directors'] = df['film'].map(Directors)\n",
    "df"
   ]
  },
  {
   "cell_type": "code",
   "execution_count": 116,
   "id": "digital-frost",
   "metadata": {},
   "outputs": [],
   "source": [
    "response = requests.get(\"https://api.themoviedb.org/3/discover/movie?api_key=\"+ api_token+\"&language=en-US&primary_release_year=2020&page=3\")"
   ]
  },
  {
   "cell_type": "code",
   "execution_count": 117,
   "id": "ambient-partition",
   "metadata": {},
   "outputs": [],
   "source": [
    "all_movies_dict = response.json()"
   ]
  },
  {
   "cell_type": "code",
   "execution_count": 119,
   "id": "stock-hybrid",
   "metadata": {},
   "outputs": [
    {
     "data": {
      "text/plain": [
       "{'page': 3,\n",
       " 'results': [{'adult': False,\n",
       "   'backdrop_path': '/vwpxy4kmQyW5aBJ3uxhQM6koU6H.jpg',\n",
       "   'genre_ids': [10751, 16],\n",
       "   'id': 743439,\n",
       "   'original_language': 'en',\n",
       "   'original_title': 'PAW Patrol: Jet to the Rescue',\n",
       "   'overview': 'Get ready to zoom back to Barkingburg with the pups in this all-new TV movie! When the scheming DUKE of Flappington steals a powerful levitation gem from the royal castle, it’s up to the PAW Patrol to jet to the rescue before the town is lost forever! Then join the PAW Patrol in even more high-flying adventures where they will save a stunt pilot, one of Mayor Humdinger’s kittens, and even Skye when she breaks her wing flying to Jake’s Mountain!',\n",
       "   'popularity': 216.255,\n",
       "   'poster_path': '/qHcn3PbjVHxBweDZxWpYH3JfugS.jpg',\n",
       "   'release_date': '2020-09-03',\n",
       "   'title': 'PAW Patrol: Jet to the Rescue',\n",
       "   'video': False,\n",
       "   'vote_average': 7.3,\n",
       "   'vote_count': 60},\n",
       "  {'adult': False,\n",
       "   'backdrop_path': '/nWlhFPdaWXWkhZrnELgboEqV0dp.jpg',\n",
       "   'genre_ids': [878, 53, 28],\n",
       "   'id': 700995,\n",
       "   'original_language': 'es',\n",
       "   'original_title': 'Devoto, la invasión silenciosa',\n",
       "   'overview': \"Five strangers wake up locked in a strange building. They don't know who took them there or for what purpose. Throughout a night they will discover with surprise that an invasion is taking place outside that complex. And this motley group of strangers, for a reason they will have to figure out, are the ones chosen to try to stop it.\",\n",
       "   'popularity': 209.48,\n",
       "   'poster_path': '/ppqef9A3tg3PJiIA82gTiA7n9Fi.jpg',\n",
       "   'release_date': '2020-05-07',\n",
       "   'title': 'Devoto, la invasión silenciosa',\n",
       "   'video': False,\n",
       "   'vote_average': 2.9,\n",
       "   'vote_count': 5},\n",
       "  {'adult': False,\n",
       "   'backdrop_path': '/pU15NMZueYMpcnJmBSB63a8uIMV.jpg',\n",
       "   'genre_ids': [878, 53],\n",
       "   'id': 687149,\n",
       "   'original_language': 'es',\n",
       "   'original_title': 'Tóxico',\n",
       "   'overview': 'In the middle of a mysterious insomnia epidemic that slowly takes on catastrophic dimensions, Laura (39) and Augusto (42) flee the city in their motorhome to get away from the chaos. As they move down the route, the world becomes an increasingly strange and dangerous place. Finally, Laura reveals a story that changes everything. The road is depopulating, the silence grows and it is increasingly difficult to differentiate the reality from the dream.',\n",
       "   'popularity': 202.725,\n",
       "   'poster_path': '/mcOuxJptI7UsL4XYwajSieNrkYc.jpg',\n",
       "   'release_date': '2020-04-23',\n",
       "   'title': 'Toxic',\n",
       "   'video': False,\n",
       "   'vote_average': 7.4,\n",
       "   'vote_count': 21},\n",
       "  {'adult': False,\n",
       "   'backdrop_path': '/mnq5O3MyfHIJvunmE0fRhMrQQ89.jpg',\n",
       "   'genre_ids': [28, 53],\n",
       "   'id': 659067,\n",
       "   'original_language': 'fr',\n",
       "   'original_title': 'La Terre et le Sang',\n",
       "   'overview': 'A sawmill owner and his teenage daughter become tangled in a deadly feud when a drug dealer stashes stolen cocaine on their remote property.',\n",
       "   'popularity': 188.922,\n",
       "   'poster_path': '/23S0NEXXOMhhXhF566Pw5sx7hnZ.jpg',\n",
       "   'release_date': '2020-04-17',\n",
       "   'title': 'Earth and Blood',\n",
       "   'video': False,\n",
       "   'vote_average': 6.3,\n",
       "   'vote_count': 228},\n",
       "  {'adult': False,\n",
       "   'backdrop_path': '/lVSMgZUBE4XTVaPBEBAczre4f1W.jpg',\n",
       "   'genre_ids': [9648, 878, 18, 53],\n",
       "   'id': 565743,\n",
       "   'original_language': 'en',\n",
       "   'original_title': 'The Vast of Night',\n",
       "   'overview': 'At the dawn of the space-race, two radio-obsessed teens discover a strange frequency over the airwaves in what becomes the most important night of their lives and in the history of their small town.',\n",
       "   'popularity': 199.538,\n",
       "   'poster_path': '/suORidtGKPO6tWwNqiwGvNo85z3.jpg',\n",
       "   'release_date': '2020-05-15',\n",
       "   'title': 'The Vast of Night',\n",
       "   'video': False,\n",
       "   'vote_average': 6.5,\n",
       "   'vote_count': 517},\n",
       "  {'adult': False,\n",
       "   'backdrop_path': '/DA7gzvlBoxMNL0XmGgTZOyv67P.jpg',\n",
       "   'genre_ids': [16, 10751, 35, 14],\n",
       "   'id': 741074,\n",
       "   'original_language': 'en',\n",
       "   'original_title': 'Once Upon a Snowman',\n",
       "   'overview': 'The previously untold origins of Olaf, the innocent and insightful, summer-loving snowman are revealed as we follow Olaf’s first steps as he comes to life and searches for his identity in the snowy mountains outside Arendelle.',\n",
       "   'popularity': 198.215,\n",
       "   'poster_path': '/hddzYJtfYYeMDOQVcH58n8m1W3A.jpg',\n",
       "   'release_date': '2020-10-23',\n",
       "   'title': 'Once Upon a Snowman',\n",
       "   'video': False,\n",
       "   'vote_average': 6.8,\n",
       "   'vote_count': 315},\n",
       "  {'adult': False,\n",
       "   'backdrop_path': '/lrNbt21hRirjyTK0SeLA0L4RAVS.jpg',\n",
       "   'genre_ids': [28, 27, 878],\n",
       "   'id': 340102,\n",
       "   'original_language': 'en',\n",
       "   'original_title': 'The New Mutants',\n",
       "   'overview': 'Five young mutants, just discovering their abilities while held in a secret facility against their will, fight to escape their past sins and save themselves.',\n",
       "   'popularity': 207.155,\n",
       "   'poster_path': '/xZNw9xxtwbEf25NYoz52KdbXHPM.jpg',\n",
       "   'release_date': '2020-08-26',\n",
       "   'title': 'The New Mutants',\n",
       "   'video': False,\n",
       "   'vote_average': 6.4,\n",
       "   'vote_count': 1664},\n",
       "  {'adult': False,\n",
       "   'backdrop_path': '/mBbA77FyzhU0Tz9tmbKG8heGmh3.jpg',\n",
       "   'genre_ids': [878, 18, 27],\n",
       "   'id': 594718,\n",
       "   'original_language': 'ru',\n",
       "   'original_title': 'Спутник',\n",
       "   'overview': 'At the height of the Cold War, a Soviet spacecraft crash lands after a mission gone awry, leaving the commander as its only survivor. After a renowned Russian psychologist is brought in to evaluate the commander’s mental state, it becomes clear that something dangerous may have come back to Earth with him…',\n",
       "   'popularity': 186.866,\n",
       "   'poster_path': '/eAUzmhP54bE1vPXaY7FbuZREJlR.jpg',\n",
       "   'release_date': '2020-09-08',\n",
       "   'title': 'Sputnik',\n",
       "   'video': False,\n",
       "   'vote_average': 6.5,\n",
       "   'vote_count': 238},\n",
       "  {'adult': False,\n",
       "   'backdrop_path': '/kU7ZiyeUwcpTkYj3UcxSqGdZmxY.jpg',\n",
       "   'genre_ids': [16, 28],\n",
       "   'id': 618353,\n",
       "   'original_language': 'en',\n",
       "   'original_title': 'Batman: Death in the Family',\n",
       "   'overview': \"Tragedy strikes the Batman's life again when Robin Jason Todd tracks down his birth mother only to run afoul of the Joker. An adaptation of the 1988 comic book storyline of the same name.\",\n",
       "   'popularity': 194.921,\n",
       "   'poster_path': '/k8Q9ulyRE8fkvZMkAM9LPYMKctb.jpg',\n",
       "   'release_date': '2020-10-13',\n",
       "   'title': 'Batman: Death in the Family',\n",
       "   'video': False,\n",
       "   'vote_average': 7.3,\n",
       "   'vote_count': 186},\n",
       "  {'adult': False,\n",
       "   'backdrop_path': '/ftODZXaXpWtV5XFD8gS9n9KwLDr.jpg',\n",
       "   'genre_ids': [35, 28, 53],\n",
       "   'id': 581600,\n",
       "   'original_language': 'en',\n",
       "   'original_title': 'Spenser Confidential',\n",
       "   'overview': 'Spenser, a former Boston patrolman who just got out from prison, teams up with Hawk, an aspiring fighter, to unravel the truth behind the death of two police officers.',\n",
       "   'popularity': 184.714,\n",
       "   'poster_path': '/fePczipv6ZzDO2uoww4vTAu2Sq3.jpg',\n",
       "   'release_date': '2020-03-06',\n",
       "   'title': 'Spenser Confidential',\n",
       "   'video': False,\n",
       "   'vote_average': 6.6,\n",
       "   'vote_count': 1491},\n",
       "  {'adult': False,\n",
       "   'backdrop_path': '/u1wHUA0R48FH4WV3sGqjwx3aNZm.jpg',\n",
       "   'genre_ids': [16, 18, 10402, 10749],\n",
       "   'id': 632632,\n",
       "   'original_language': 'ja',\n",
       "   'original_title': '映画 ギヴン',\n",
       "   'overview': \"The film centers on the love relationship among the band's bassist Haruki Nakayama, drummer Akihiko Kaji, and Akihiko's roommate and ex-boyfriend Ugetsu Murata.\",\n",
       "   'popularity': 217.359,\n",
       "   'poster_path': '/xKCtoYHUyX8zAg68eemnYa2orep.jpg',\n",
       "   'release_date': '2020-08-22',\n",
       "   'title': 'Given',\n",
       "   'video': False,\n",
       "   'vote_average': 8.9,\n",
       "   'vote_count': 126},\n",
       "  {'adult': False,\n",
       "   'backdrop_path': '/p6ExERRwodksg0fFKzCjmNCR6Hw.jpg',\n",
       "   'genre_ids': [53],\n",
       "   'id': 531299,\n",
       "   'original_language': 'en',\n",
       "   'original_title': 'Kill Chain',\n",
       "   'overview': 'A hotel room shootout between two assassins kicks off a long night where bodies fall like dominoes, as we follow a chain of crooked cops, gangsters, hitmen, a femme Fatale and an ex-mercenary through a relay of murder, betrayal, revenge and redemption.',\n",
       "   'popularity': 166.179,\n",
       "   'poster_path': '/wy0Xs5mGtD92PyKvsl0lxzbzscG.jpg',\n",
       "   'release_date': '2020-02-20',\n",
       "   'title': 'Kill Chain',\n",
       "   'video': False,\n",
       "   'vote_average': 5.6,\n",
       "   'vote_count': 64},\n",
       "  {'adult': False,\n",
       "   'backdrop_path': '/obExOU9qDnMcxvWPumoD14oxup5.jpg',\n",
       "   'genre_ids': [53, 27, 18],\n",
       "   'id': 509635,\n",
       "   'original_language': 'en',\n",
       "   'original_title': 'Alone',\n",
       "   'overview': 'A recently widowed traveler is kidnapped by a cold blooded killer, only to escape into the wilderness where she is forced to battle against the elements as her pursuer closes in on her.',\n",
       "   'popularity': 155.974,\n",
       "   'poster_path': '/n9OzZmPMnVrV0cMQ7amX0DtBkQH.jpg',\n",
       "   'release_date': '2020-09-10',\n",
       "   'title': 'Alone',\n",
       "   'video': False,\n",
       "   'vote_average': 6.3,\n",
       "   'vote_count': 223},\n",
       "  {'adult': False,\n",
       "   'backdrop_path': '/qBxvZJoM2EJBh2eRWSYTWKZVhcd.jpg',\n",
       "   'genre_ids': [27, 9648],\n",
       "   'id': 595149,\n",
       "   'original_language': 'en',\n",
       "   'original_title': 'Death of Me',\n",
       "   'overview': 'A couple on holiday on a remote South Pacific island awaken one morning with a hang over and no recollection of what transpired. When playing back a video of the previous night, they see they participated in a local ritual that somehow ends with him murdering her.',\n",
       "   'popularity': 152.755,\n",
       "   'poster_path': '/8F9xUvb1JMWUMkFV2Yq3aiueAbq.jpg',\n",
       "   'release_date': '2020-10-02',\n",
       "   'title': 'Death of Me',\n",
       "   'video': False,\n",
       "   'vote_average': 4.9,\n",
       "   'vote_count': 119},\n",
       "  {'adult': False,\n",
       "   'backdrop_path': '/d1sVANghKKMZNvqjW0V6y1ejvV9.jpg',\n",
       "   'genre_ids': [16, 28, 12, 14, 18],\n",
       "   'id': 635302,\n",
       "   'original_language': 'ja',\n",
       "   'original_title': '劇場版「鬼滅の刃」無限列車編',\n",
       "   'overview': \"Tanjirō Kamado, joined with Inosuke Hashibira, a boy raised by boars who wears a boar's head, and Zenitsu Agatsuma, a scared boy who reveals his true power when he sleeps, boards the Infinity Train on a new mission with the Fire Hashira, Kyōjurō Rengoku, to defeat a demon who has been tormenting the people and killing the demon slayers who oppose it!\",\n",
       "   'popularity': 198.298,\n",
       "   'poster_path': '/yF45egpHwaYLn4jTyZAgk0Cmug9.jpg',\n",
       "   'release_date': '2020-10-16',\n",
       "   'title': 'Demon Slayer - Kimetsu no Yaiba - The Movie: Mugen Train',\n",
       "   'video': False,\n",
       "   'vote_average': 8,\n",
       "   'vote_count': 496},\n",
       "  {'adult': False,\n",
       "   'backdrop_path': '/lsgYcIbcoQeDZXsHYMOnkvk3sn0.jpg',\n",
       "   'genre_ids': [18, 53],\n",
       "   'id': 505225,\n",
       "   'original_language': 'en',\n",
       "   'original_title': 'The Last Thing He Wanted',\n",
       "   'overview': 'At the turning point of the Iran-Contra affair, Elena McMahon, a fearless investigative journalist covering the 1984 US presidential campaign, puts herself in danger when she abandons her assigned task in order to fulfill the last wish of her ailing father, a mysterious man whose past activities she barely knows.',\n",
       "   'popularity': 168.753,\n",
       "   'poster_path': '/gItrnbEbMBbUrdIkFz8kgS2gkt.jpg',\n",
       "   'release_date': '2020-02-14',\n",
       "   'title': 'The Last Thing He Wanted',\n",
       "   'video': False,\n",
       "   'vote_average': 5,\n",
       "   'vote_count': 312},\n",
       "  {'adult': False,\n",
       "   'backdrop_path': '/xRKwiUHGnsZGxZaO6OIKqpzJjPa.jpg',\n",
       "   'genre_ids': [28, 53],\n",
       "   'id': 466622,\n",
       "   'original_language': 'en',\n",
       "   'original_title': 'The Rhythm Section',\n",
       "   'overview': 'After the death of her family in an airplane crash on a flight that she was meant to be on, Stephanie Patrick discovers the crash was not an accident. She then seeks to uncover the truth by adapting the identity of an assassin to track down those responsible.',\n",
       "   'popularity': 170.025,\n",
       "   'poster_path': '/spTr0VYyRtl36Lkk6nCnnbFXhus.jpg',\n",
       "   'release_date': '2020-01-31',\n",
       "   'title': 'The Rhythm Section',\n",
       "   'video': False,\n",
       "   'vote_average': 5.6,\n",
       "   'vote_count': 337},\n",
       "  {'adult': False,\n",
       "   'backdrop_path': '/a8ppJJIQmEJcLSFfhxupc4aT4KW.jpg',\n",
       "   'genre_ids': [18, 28, 53],\n",
       "   'id': 571785,\n",
       "   'original_language': 'ko',\n",
       "   'original_title': '사냥의 시간',\n",
       "   'overview': 'Four young men who want to leave their dystopian world behind and go to a distant paradise execute a money robbery, a daring act that will have unexpected consequences.',\n",
       "   'popularity': 152.24,\n",
       "   'poster_path': '/bkuuvDoPkOJpg0ZDzHkUWt8ZG5A.jpg',\n",
       "   'release_date': '2020-02-22',\n",
       "   'title': 'Time to Hunt',\n",
       "   'video': False,\n",
       "   'vote_average': 7.3,\n",
       "   'vote_count': 170},\n",
       "  {'adult': False,\n",
       "   'backdrop_path': '/4br4B8C0SRIYcKHUgoaOlGo50MU.jpg',\n",
       "   'genre_ids': [27],\n",
       "   'id': 575088,\n",
       "   'original_language': 'ru',\n",
       "   'original_title': 'Яга. Кошмар тёмного леса',\n",
       "   'overview': 'The young family who moved to a new apartment on the outskirts of the city. The nanny hired by them for the newborn daughter quickly gained confidence. However, the older boy, Egor, talks about the frightening behavior of a woman, but his parents do not believe him. The surveillance cameras installed by the father for comfort only confirm everything is in order. Then one day, Egor, returning home, finds no trace of either the nanny or the little sister, and the parents are in a strange trance and do not even remember that they had a daughter. Then Egor, together with his friends, goes in search, during which it turns out that the nanny is an ancient Slavic demon, popularly known as Baba Yaga.',\n",
       "   'popularity': 169.97,\n",
       "   'poster_path': '/8m5HTXzwewlfXhtZtLlLts53YTW.jpg',\n",
       "   'release_date': '2020-02-27',\n",
       "   'title': 'Baba Yaga: Terror of the Dark Forest',\n",
       "   'video': False,\n",
       "   'vote_average': 6.1,\n",
       "   'vote_count': 108},\n",
       "  {'adult': False,\n",
       "   'backdrop_path': '/2gBMBfmQvHeOQQ5PiKiuxVdGs77.jpg',\n",
       "   'genre_ids': [27, 53],\n",
       "   'id': 587496,\n",
       "   'original_language': 'en',\n",
       "   'original_title': 'The Rental',\n",
       "   'overview': 'Two couples on an oceanside getaway grow suspicious that the host of their seemingly perfect rental house may be spying on them. Before long, what should have been a celebratory weekend trip turns into something far more sinister.',\n",
       "   'popularity': 162.516,\n",
       "   'poster_path': '/3ynPnBXQVT2Y0s19fDIPlWKUlxH.jpg',\n",
       "   'release_date': '2020-07-23',\n",
       "   'title': 'The Rental',\n",
       "   'video': False,\n",
       "   'vote_average': 5.6,\n",
       "   'vote_count': 346}],\n",
       " 'total_pages': 500,\n",
       " 'total_results': 10000}"
      ]
     },
     "execution_count": 119,
     "metadata": {},
     "output_type": "execute_result"
    }
   ],
   "source": [
    "all_movies_dict"
   ]
  },
  {
   "cell_type": "code",
   "execution_count": null,
   "id": "honest-seating",
   "metadata": {},
   "outputs": [],
   "source": []
  },
  {
   "cell_type": "code",
   "execution_count": null,
   "id": "hundred-hawaii",
   "metadata": {},
   "outputs": [],
   "source": []
  }
 ],
 "metadata": {
  "kernelspec": {
   "display_name": "Python 3",
   "language": "python",
   "name": "python3"
  },
  "language_info": {
   "codemirror_mode": {
    "name": "ipython",
    "version": 3
   },
   "file_extension": ".py",
   "mimetype": "text/x-python",
   "name": "python",
   "nbconvert_exporter": "python",
   "pygments_lexer": "ipython3",
   "version": "3.8.5"
  }
 },
 "nbformat": 4,
 "nbformat_minor": 5
}
